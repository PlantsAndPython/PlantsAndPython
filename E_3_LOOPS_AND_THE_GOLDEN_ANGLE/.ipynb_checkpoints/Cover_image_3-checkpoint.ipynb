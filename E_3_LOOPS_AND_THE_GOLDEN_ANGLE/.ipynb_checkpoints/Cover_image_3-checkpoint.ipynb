{
 "cells": [
  {
   "cell_type": "markdown",
   "metadata": {},
   "source": [
    "#### Cover Illustration"
   ]
  },
  {
   "cell_type": "markdown",
   "metadata": {},
   "source": [
    "![pnp_3_eng.png](../images/pnp_3_eng.png)"
   ]
  },
  {
   "cell_type": "markdown",
   "metadata": {},
   "source": [
    "**Illustration by *Eddy Mendoza-Galindo*:**\n",
    "\n",
    "**Image description:** Like Dr. Strange, Fitoman is using a time stone to create portals. One of the portals says `for while`. Clustalya is covering her face and says \"Loops are magic tools that allow you to control your analysis time. Still, mastering them is tough, be careful!\""
   ]
  }
 ],
 "metadata": {
  "kernelspec": {
   "display_name": "Python 3 (ipykernel)",
   "language": "python",
   "name": "python3"
  },
  "language_info": {
   "codemirror_mode": {
    "name": "ipython",
    "version": 3
   },
   "file_extension": ".py",
   "mimetype": "text/x-python",
   "name": "python",
   "nbconvert_exporter": "python",
   "pygments_lexer": "ipython3",
   "version": "3.8.10"
  }
 },
 "nbformat": 4,
 "nbformat_minor": 2
}
