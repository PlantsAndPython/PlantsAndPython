{
 "cells": [
  {
   "cell_type": "markdown",
   "metadata": {},
   "source": [
    "#### Cover Illustration"
   ]
  },
  {
   "cell_type": "markdown",
   "metadata": {},
   "source": [
    "![pnp_2_eng.png](../images/pnp_2_eng.png)"
   ]
  },
  {
   "cell_type": "markdown",
   "metadata": {},
   "source": [
    "**Illustration by *Eddy Mendoza-Galindo*.**\n",
    "\n",
    "**Image description:** Clustalya is holding a pipette tip as a magic wand. At the end of the magic wand is a plotted grapevine leaf with the text \"*Vitis palmata*\" beneath it. Around Clustalya is swirling numbers and the text \"*expecto patronum*\". Clustalya says \"The most powerful spell against data misinterpretation is plotting!\""
   ]
  }
 ],
 "metadata": {
  "kernelspec": {
   "display_name": "Python 3 (ipykernel)",
   "language": "python",
   "name": "python3"
  },
  "language_info": {
   "codemirror_mode": {
    "name": "ipython",
    "version": 3
   },
   "file_extension": ".py",
   "mimetype": "text/x-python",
   "name": "python",
   "nbconvert_exporter": "python",
   "pygments_lexer": "ipython3",
   "version": "3.8.10"
  }
 },
 "nbformat": 4,
 "nbformat_minor": 2
}
