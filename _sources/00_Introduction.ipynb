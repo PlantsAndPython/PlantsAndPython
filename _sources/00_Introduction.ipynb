{
 "cells": [
  {
   "cell_type": "markdown",
   "metadata": {},
   "source": [
    "# Welcome to / Bienvenid@ a Plants & Python\n",
    "*a series of lessons in coding, plant biology, computation, and bioinformatics*  \n",
    "*una serie de lecciones de programación, biología vegetal, cómputo, y bioinformática*\n",
    "_______"
   ]
  },
  {
   "cell_type": "markdown",
   "metadata": {},
   "source": [
    "***Designed by / Diseñada por***: Robert VanBuren<sup>1</sup>, Alejandra Rougon<sup>3</sup>, Erik Amézquita<sup>1</sup>, Evelia Lorena Coss Navarrete<sup>2</sup>, Andres Gonzalez<sup>2</sup>, Aarón Jaime<sup>3</sup>, Alice Luckie<sup>3</sup>, Memo Rodríguez<sup>3</sup>, Marilyn Vazques<sup>2</sup>, Pablo Yamild Rosiles Loeza<sup>2</sup>, Selene Fernández<sup>2</sup>, Tania Hernández<sup>4</sup>, Sourabh Palande<sup>1</sup>, Dan Chitwood<sup>1</sup>"
   ]
  },
  {
   "cell_type": "markdown",
   "metadata": {},
   "source": [
    "<sup>1</sup>Michigan State University, East Lasing, Michigan, USA; <sup>2</sup>Laboratorio Nacional de Genómica para la Biodiversidad (Langebio), Irapuato, Guanajuato, México; <sup>3</sup>La Escuela Nacional de Estudios Superiores (ENES) Unidad León, León, Guanajauto, México; <sup>4</sup>Desert Botanical Garden, Phoenix, Arizona, USA"
   ]
  },
  {
   "attachments": {},
   "cell_type": "markdown",
   "metadata": {},
   "source": [
    "![plants_python_logo.jpg](./images/plants_python_logo.jpg)"
   ]
  }
 ],
 "metadata": {
  "kernelspec": {
   "display_name": "Python 3 (ipykernel)",
   "language": "python",
   "name": "python3"
  },
  "language_info": {
   "codemirror_mode": {
    "name": "ipython",
    "version": 3
   },
   "file_extension": ".py",
   "mimetype": "text/x-python",
   "name": "python",
   "nbconvert_exporter": "python",
   "pygments_lexer": "ipython3",
   "version": "3.8.10"
  }
 },
 "nbformat": 4,
 "nbformat_minor": 2
}
