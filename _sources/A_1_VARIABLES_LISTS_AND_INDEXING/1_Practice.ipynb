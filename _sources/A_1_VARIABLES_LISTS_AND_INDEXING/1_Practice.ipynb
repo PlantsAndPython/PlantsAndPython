{
 "cells": [
  {
   "cell_type": "markdown",
   "metadata": {},
   "source": [
    "# Practice with Variables, Functions, Lists, & Indexing\n",
    "_______"
   ]
  },
  {
   "cell_type": "markdown",
   "metadata": {},
   "source": [
    "**Now you give it a try!**\n",
    "\n",
    "Think of your favorite plant. It could be a food or a beautiful flower that you love. You just learned about the remarkable diversity among plants, from algae to land plants. There are so many to choose from!\n",
    "\n",
    "Now google your favorite plant and find it's Latin name, both the genus and species epithet.\n",
    "\n",
    "**Do this:**\n",
    "\n",
    "In the cell below, create two variables, `genus` and `species`. Assign the variables the genus and species epithet names of your favorite plant.\n",
    "\n",
    "Then, create a new variable called `my_fav` that combines the genus and species names together. **Hint:** place an underscore `_` preceding the species name so that when you combine genus and species they are separated!\n",
    "\n",
    "Finally, use the print function `print()` to print out your favorite species."
   ]
  },
  {
   "cell_type": "code",
   "execution_count": null,
   "metadata": {},
   "outputs": [],
   "source": [
    "# Put your answer here\n"
   ]
  },
  {
   "cell_type": "markdown",
   "metadata": {},
   "source": [
    "Now, using wikipedia, look up the genus of your favorite plant. Find two other species in the genus besides your favorite plant. \n",
    "\n",
    "**Do this:**\n",
    "\n",
    "Create two new variables, `species1` and `species2`. Using the `genus` variable you previously created and strings for the epithets of the two new species, assign the two new species variables the full species names (with genus) of the two new species."
   ]
  },
  {
   "cell_type": "code",
   "execution_count": null,
   "metadata": {},
   "outputs": [],
   "source": [
    "# Put your answer here\n"
   ]
  },
  {
   "cell_type": "markdown",
   "metadata": {},
   "source": [
    "Finally, create a list named after your genus with your variables `my_fav`, `species1`, and `species2`. Then, using indexing with your newly created list, print out the name of your favorite plant species."
   ]
  },
  {
   "cell_type": "code",
   "execution_count": null,
   "metadata": {},
   "outputs": [],
   "source": [
    "# Put your answer here\n"
   ]
  },
  {
   "cell_type": "markdown",
   "metadata": {},
   "source": [
    "## Practice with Slicing and Data Types\n",
    "_______"
   ]
  },
  {
   "cell_type": "markdown",
   "metadata": {},
   "source": [
    "In the video you learned about the Golden Angle, an irrational number based on the Golden Ratio and Fibonacci sequence that appears often in nature. In plants, the Golden Angle determines the spiral phyllotactic angle, the arrangement of leaves and other organs in plants, like the beautiful arrangement of florets in a sunflower. In later lessons you will calculate the Golden Angle yourself using loops and use the value to model the growth of a sunflower.\n",
    "\n",
    "What is theh Fibonacci sequence? We will learn more later, but it is a sequence of numbers where every number in the series is the sum of the previous two numbers.\n",
    "\n",
    "In the cell below, the list `fibonacci` has the first 16 numbers in the series. Execute the cell to create the list and look it over, verifying that each number is the sum of the previous two."
   ]
  },
  {
   "cell_type": "code",
   "execution_count": 4,
   "metadata": {},
   "outputs": [],
   "source": [
    "fibonacci = [1, 1, 2, 3, 5, 8, 13, 21, 34, 55, 89, 144, 233, 377, 610, 987]"
   ]
  },
  {
   "cell_type": "markdown",
   "metadata": {},
   "source": [
    "In the cell below, use the `len()` function to verify there are 16 numbers in this list."
   ]
  },
  {
   "cell_type": "code",
   "execution_count": 6,
   "metadata": {},
   "outputs": [],
   "source": [
    "# Put your answer here\n"
   ]
  },
  {
   "cell_type": "markdown",
   "metadata": {},
   "source": [
    "The Fibonacci sequence has numerous special mathematical properties. For example, every nth element of the series is divisable by the nth element. For example, the third element of the series is `2`. Every third element of the series should be even. The fourth element of the series is `3`. Every fourth element should be divisible by `3`.\n",
    "\n",
    "In the last video, you learned about slicing and how to use a `step` value to select every nth element in a series.\n",
    "\n",
    "Let's explore this interesting property of the Fiobonacci series!\n",
    "\n",
    "**Do this:**\n",
    "\n",
    "In the cell below, starting on the 4th element of the series, select every 4th number thereafter. What is the 4th element and are all the numbers you sliced divisible by it?\n",
    "\n",
    "**Hint:** Remember, the first element of a list is indexed as 0 and the nth element in the list is not indexed as n!"
   ]
  },
  {
   "cell_type": "code",
   "execution_count": 8,
   "metadata": {},
   "outputs": [],
   "source": [
    "# Put your answer here\n"
   ]
  },
  {
   "cell_type": "markdown",
   "metadata": {},
   "source": [
    "Try it out for the 5th element of the series, and select every 5th number thereafter."
   ]
  },
  {
   "cell_type": "code",
   "execution_count": null,
   "metadata": {},
   "outputs": [],
   "source": [
    "# Put your answer here\n"
   ]
  }
 ],
 "metadata": {
  "kernelspec": {
   "display_name": "Python 3 (ipykernel)",
   "language": "python",
   "name": "python3"
  },
  "language_info": {
   "codemirror_mode": {
    "name": "ipython",
    "version": 3
   },
   "file_extension": ".py",
   "mimetype": "text/x-python",
   "name": "python",
   "nbconvert_exporter": "python",
   "pygments_lexer": "ipython3",
   "version": "3.8.10"
  }
 },
 "nbformat": 4,
 "nbformat_minor": 2
}
