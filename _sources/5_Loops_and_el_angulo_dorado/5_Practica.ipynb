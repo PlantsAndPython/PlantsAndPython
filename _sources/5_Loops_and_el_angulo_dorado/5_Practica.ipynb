{
 "cells": [
  {
   "cell_type": "markdown",
   "metadata": {},
   "source": [
    "# Lección 3.6"
   ]
  },
  {
   "cell_type": "markdown",
   "metadata": {},
   "source": [
    "## Práctica con La razón dorada calculada con loops 🌻 \n",
    "_____"
   ]
  },
  {
   "cell_type": "markdown",
   "metadata": {},
   "source": [
    "## De la sucesión de Fibonacci a la razón dorada"
   ]
  },
  {
   "cell_type": "markdown",
   "metadata": {},
   "source": [
    "Después de ver el video de arriba, en la celda de abajo, crea un loop `for` que calcule los primeros **100 números** de la sucesión de Fibonacci.\n",
    "\n",
    "Haz lo siguiente:\n",
    "\n",
    "* Crea una lista ***fuera del*** loop `for` para guardar la sucesión. Llamemos `fibonacci` a la lista.\n",
    "* Recuerda que debemos especificar los dos primeros números de la sucesión (0 y 1) en la lista para calcular los términos subsiguientes.\n",
    "* Debemos comenzar a iterar en el tercer elemento (índice = 2) de la lista para calcular el resto de la sucesión.\n",
    "* Cada elemento de la sucesión es la suma de los elementos `i-2` e `i-1`."
   ]
  },
  {
   "cell_type": "code",
   "execution_count": null,
   "metadata": {},
   "outputs": [],
   "source": [
    "# Escribe tu respuesta aquí\n",
    "\n",
    "\n"
   ]
  },
  {
   "cell_type": "markdown",
   "metadata": {},
   "source": [
    "En la celda de abajo, calcula la longitud de la lista `fibonacci` con  la función `len ()` (deberíamos tener 100 elementos. De lo contrario, modifica el loop para asegurar que este sea el caso)."
   ]
  },
  {
   "cell_type": "code",
   "execution_count": null,
   "metadata": {},
   "outputs": [],
   "source": [
    "# Determina la longitud de la lista Fibonacci:\n",
    "\n",
    "\n"
   ]
  },
  {
   "cell_type": "markdown",
   "metadata": {},
   "source": [
    "Una vez que conseguimos calcular la sucesión de Fibonacci, ¡modifiquemos el código para calcular la razón dorada $\\phi$!\n",
    "\n",
    "La razón dorada se aproxima como la razón del elemento `i` dividido por el elemento `i-1` de la sucesión de Fibonacci. La aproximación de la razón dorada `i/(i-1)` se vuelve más precisa cuando evaluamos índice grandes. ¡Usemos nuestras habilidades de loops para aproximar la razón dorada!\n",
    "\n",
    "Copia y pega el código de la sucesión de Fibonacci de arriba. En la celda a continuación, modifícalo para hacer lo siguiente:\n",
    "\n",
    "* Además de la lista de Fibonacci (rellenada previamente con 0 y 1 para calcular la secuencia) agreguemos otra lista vacía llamada `phi` fuera del loop  para almacenar nuestras aproximaciones de la razón dorada.\n",
    "\n",
    "* Esta vez, calculemos solo 52 elementos de la sucesión de Fibonacci y 50 elementos de $\\varphi$. \n",
    "\n",
    "- Todavía debemos comenzar en el tercer elemento (índice = 2) para calcular la sucesión de Fibonacci, por lo que debemos agregar dos iteraciones adicionales para asegurarse de obtener las 50 aproximaciones de $\\varphi$ (porque a diferencia de la sucesión de Fibonacci, esta lista `phi` comienza vacía).\n",
    "\n",
    "* En el loop `for`, calculamos cada elemento de la sucesión de Fibonacci como la suma de los elementos `(i-2)` + `(i-1)` y los añadimos a la lista de Fibonacci.\n",
    "\n",
    "* Agregamos dentro del `for` un cálculo de $\\phi$ como elementos `i/(i-1)` de la secuencia de Fibonacci.\n",
    "\n",
    "\n",
    "* **Importante**: para poder calcular $\\varphi$ como se describe arriba, ¡el `i`-ésimo elemento de tu lista de Fibonacci no existe hasta que lo calcules! Asegúrate de calcular el próximo número de Fibonacci de la serie y agregarlo a la lista ***antes de*** calcular $\\varphi$. Fibonacci primero, luego $\\varphi$."
   ]
  },
  {
   "cell_type": "code",
   "execution_count": null,
   "metadata": {},
   "outputs": [],
   "source": [
    "# Tu respuesta aquí\n",
    "\n",
    "\n"
   ]
  },
  {
   "cell_type": "markdown",
   "metadata": {},
   "source": [
    "En la siguiente celda, con `print` imprime:\n",
    "\n",
    "1. La longitud `len()` de la lista `phi`\n",
    "2. Imprime `phi`. La lista debe de aproximar el valor de la razón dorada: 1.618033988749895"
   ]
  },
  {
   "cell_type": "code",
   "execution_count": null,
   "metadata": {},
   "outputs": [],
   "source": [
    "# Tu respuesta aquí\n",
    "\n"
   ]
  },
  {
   "cell_type": "markdown",
   "metadata": {},
   "source": [
    "## De la razón dorada al ángulo dorado"
   ]
  },
  {
   "cell_type": "markdown",
   "metadata": {},
   "source": [
    "La hermosa filotaxia en espiral de los girasoles y en órganos laterales de otras plantas surge del ángulo dorado. El ángulo dorado se deriva de la razón dorada. Si dos arcos en un círculo se definen de manera que la longitud del arco `a` dividido por el arco` b` es la razón dorada, entonces el ángulo resultante es el ángulo dorado. \n",
    "\n",
    "Como acabamos de ver, la razón dorada es producto de la sucesión de Fibonacci, ¡y así es como los patrones inspiradores que se ven en un disco de girasol están vinculados a la sucesión de Fibonacci! 🌻"
   ]
  },
  {
   "attachments": {},
   "cell_type": "markdown",
   "metadata": {},
   "source": [
    "![golden_angle.jpg](../images/golden_angle.jpg)"
   ]
  },
  {
   "cell_type": "markdown",
   "metadata": {},
   "source": [
    "Aproximemos el ángulo dorado a partir de la razón dorada.\n",
    "\n",
    "Primero, obtengamos nuestra estimación más precisa de la razón dorada.\n",
    "\n",
    "En la próxima lección, usaremos la función `.pop()`, la cual se puede agregar al final de una lista. `.pop()` devolverá el último elemento de la lista. Como el último miembro de nuestra lista `phi` es la mejor aproximación de la razón dorada que tenemos, ¡usemos `.pop()` para obtener ese valor! La forma en que se usa `.pop()` es la siguiente:\n",
    "\n",
    "```python\n",
    "my_variable = my_list.pop()\n",
    "```\n",
    "\n",
    "En la celda de abajo, crea una nueva variable llamada `golden_ratio` usando `.pop()` para aislar el último valor de la lista` phi`. Imprime el valor de `golden_ratio`."
   ]
  },
  {
   "cell_type": "code",
   "execution_count": null,
   "metadata": {},
   "outputs": [],
   "source": [
    "# Tu respuésta aquí\n",
    "\n",
    "\n"
   ]
  },
  {
   "cell_type": "markdown",
   "metadata": {},
   "source": [
    "La razón dorada tiene algunas propiedades muy interesantes.\n",
    "\n",
    "En la celda de abajo, haz `print()` de lo siguiente usando tu nueva variable `golden_ratio`:\n",
    "\n",
    "* Imprime el valor de `golden_ratio`\n",
    "* Imprime el valor de `golden_ratio` elevado al cuadrado\n",
    "* Imprime el valor de `1/golden_ratio`\n",
    "\n",
    "¿Qué observas que es similar entre todos los valores que acabas de calcular?"
   ]
  },
  {
   "cell_type": "code",
   "execution_count": null,
   "metadata": {},
   "outputs": [],
   "source": [
    "# Respuesta aquí\n",
    "\n",
    "\n"
   ]
  },
  {
   "cell_type": "markdown",
   "metadata": {},
   "source": [
    "No solo todos los valores que acabamos de calcular terminan con los mismos decimales, sino que también observamos que `golden_ratio**2 = 1 + golden_ratio`. Con esta información, ¡descubramos cómo derivar el ángulo dorado a partir de la razón dorada!\n",
    "\n",
    "Sea `f` la fracción de la longitud de la circunferencia de un círculo que está ocupada por el arco` b`, donde la razón de las longitudes de los arcos `a/b` es la razón dorada."
   ]
  },
  {
   "cell_type": "markdown",
   "metadata": {},
   "source": [
    "```python\n",
    "golden_ratio = a/b\n",
    "f = b / (a + b) \n",
    "f = (b/b) / ( (a/b) + (b/b) )\n",
    "f = 1 / (golden_ratio + 1)\n",
    "f = 1 / golden_ratio**2\n",
    "```"
   ]
  },
  {
   "cell_type": "markdown",
   "metadata": {},
   "source": [
    "De los cálculos anteriores, podemos ver que la fracción de la circunferencia del círculo ocupado por el arco `b` que está subtendido por el ángulo dorado es `1/golden_ratio**2`.\n",
    "\n",
    "En la celda a continuación, calculemos el ángulo dorado a partir de la aproximación de la razón dorada en grados como:\n",
    "\n",
    "```python\n",
    "golden_angle = 360*(1/golden_ratio**2)\n",
    "```\n",
    "\n",
    "Nuestra respuesta debe estar cerca de \"137.50776405003785\"."
   ]
  },
  {
   "cell_type": "code",
   "execution_count": null,
   "metadata": {},
   "outputs": [],
   "source": [
    "# Respuesta aquí\n",
    "\n",
    "\n"
   ]
  },
  {
   "cell_type": "markdown",
   "metadata": {},
   "source": [
    "¡Felicidades! ¡Calculamos el ángulo dorado desde cero usando python! Utilizaremos el ángulo dorado en la siguiente actividad para modelar el crecimiento de un girasol."
   ]
  }
 ],
 "metadata": {
  "kernelspec": {
   "display_name": "Python 3 (ipykernel)",
   "language": "python",
   "name": "python3"
  },
  "language_info": {
   "codemirror_mode": {
    "name": "ipython",
    "version": 3
   },
   "file_extension": ".py",
   "mimetype": "text/x-python",
   "name": "python",
   "nbconvert_exporter": "python",
   "pygments_lexer": "ipython3",
   "version": "3.8.10"
  }
 },
 "nbformat": 4,
 "nbformat_minor": 2
}
