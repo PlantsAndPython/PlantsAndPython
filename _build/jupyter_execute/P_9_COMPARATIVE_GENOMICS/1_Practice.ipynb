{
 "cells": [
  {
   "attachments": {},
   "cell_type": "markdown",
   "metadata": {},
   "source": [
    "![plants_python_logo.jpg](../images/plants_python_logo.jpg)"
   ]
  },
  {
   "cell_type": "markdown",
   "metadata": {},
   "source": [
    "# Practice: Genome visualization and comparative genomics"
   ]
  },
  {
   "cell_type": "markdown",
   "metadata": {},
   "source": [
    "## Orthology and Gene Family Analysis"
   ]
  },
  {
   "attachments": {},
   "cell_type": "markdown",
   "metadata": {},
   "source": [
    "Synteny is a good way to identify orthologous genes between species, but sometimes genes move around the genome, and when they are in new places, syntenic approaches are unable to identify orthologous gene pairs. Very distantly related species like rice and moss also have undergone massive strucutral rearrangements and polyploidy, so many of the genes are no longer in the same places. Alternatively, we can cluster similar groups of genes into gene families or **orthogroups**. Here, we essentially use BLAST and set a threshold to group genes together based on similarity. Orthogroup analysis is a powerful way to identify corresponding genes across dozens of different species. This can be used to assign function or to identify gene losses or expansions related to important traits. \n",
    "<br>\n",
    "We will use OrthoFinder to compare the gene content of 56 divere flowering plant genomes.\n",
    "https://github.com/davidemms/OrthoFinder\n",
    "![orthofinder.jpeg](../images/orthofinder.jpeg)"
   ]
  },
  {
   "cell_type": "markdown",
   "metadata": {},
   "source": [
    "OrthoFinder can be used to cluster genes into orthogroups for any number of species and typcially, more species = more power. The input for OrthoFinder is a set of protein sequences in fasta format for each species. OrthoFinder is computationally intensive (All vs all alignment + phylogenetic tree construction), so we ran this already on a set of 56 species (see below). I have provided an example submission script on HPCC if you'd like to run it yourself!"
   ]
  },
  {
   "cell_type": "markdown",
   "metadata": {},
   "source": [
    "## Challenge problem: Run OrthoFinder on a group of your favorite species!"
   ]
  },
  {
   "cell_type": "markdown",
   "metadata": {},
   "source": [
    "I have provided orthofinder results for a group of ~21 species, but you can run Orthofinder on a different set of species of your choosing. Orthofinder is relatively CPU intensive, but this depends on the number of species you include in the analysis and the total number of genes. <br>\n",
    "\n",
    "I put an example  slurm submission script for Orthofinder under `/mnt/ufs18/rs-007/REU_Plant_Genome_2021/Orthofinder` as follows:\n",
    "\n",
    "    #!/bin/sh --login\n",
    "    #SBATCH --time=96:00:00             # limit of wall clock time - how long the job will run (same as -t)\n",
    "    #SBATCH --nodes=1                 # number of different nodes - could be an exact number or a range of nodes (same as -N)\n",
    "    #SBATCH --ntasks=8                 # number of tasks - how many tasks (nodes) that you require (same as -n)\n",
    "    #SBATCH --cpus-per-task=1           # number of CPUs (or cores) per task (same as -c)\n",
    "    #SBATCH --mem-per-cpu=4g            # memory required per allocated CPU (or core) - amount of memory (in bytes)\n",
    "    #SBATCH -J Orthofinder\n",
    "    cd /mnt/ufs18/rs-007/REU_Plant_Genome_2021/Orthofinder/\n",
    "\n",
    "    module purge\n",
    "    module load iccifort/2019.5.281  impi/2018.5.288\n",
    "    module load OrthoFinder/2.4.1-Python-3.7.4\n",
    "\n",
    "    orthofinder -t 8 -a 8 -b /mnt/ufs18/rs-034/VanBuren_Lab/Bob/ -f /mnt/ufs18/rs-007/REU_Plant_Genome_2021/Orthofinder/Proteins_seqs/\n",
    "\n",
    "Here, I have requested 1 node with 8 cpus to run orthofinder. I have only included protein datasets from 8 species (under `/mnt/ufs18/rs-007/REU_Plant_Genome_2021/Orthofinder/Proteins_seqs/`), so this should run in a reasonable amount of time with these resources. I would typically request 96 processors, but this should be fine. I have requested a wall time of 96 hours and 4 Gb of memory per node. We need to load a few modules including the Intel compilers toolchain and Intel MPI Library, which are useful to create, maintain, and test advanced programs on high performance computing clusters. We will also load Orthofinder version 2.41 and specify the correct version of Python to run. We could also install OrthoFinder locally ourselves using a conda virtual environment, but we won't get into that here. **If you decide to run Orthofinder yourself, make sure to change the starting directory and the -b flag in the command, as this controls where the files will be output. DO NOT OUTPUT THEM IN THE COURSE DIRECTORY**\n",
    "<br>\n",
    "If you want to run orthofinder of different/additional species, you simply need to download the protein file and include it in the directory containing protein sequences. "
   ]
  },
  {
   "cell_type": "code",
   "execution_count": 1,
   "metadata": {},
   "outputs": [],
   "source": [
    "## Answer\n",
    "## What species did you choose and what do the output files look like? "
   ]
  },
  {
   "cell_type": "markdown",
   "metadata": {},
   "source": [
    "We will use the output files you generated or the ones I provided for the remainder of this exercise. "
   ]
  },
  {
   "cell_type": "markdown",
   "metadata": {},
   "source": [
    "## Phylogenetics with Bio.Phylo"
   ]
  },
  {
   "cell_type": "markdown",
   "metadata": {},
   "source": [
    "Orthofinder builds a consensus phylogenetic tree based on all of the individual gene trees it constructs for each orthogroup. We can visualize this tree using the Biopython function `Phylo`. This will give us a sense of the phylogenetic placement of the species we included. First, we need to import a few functions in Biopython as well as matplotlib: "
   ]
  },
  {
   "cell_type": "code",
   "execution_count": 2,
   "metadata": {},
   "outputs": [],
   "source": [
    "import copy\n",
    "from io import StringIO\n",
    "\n",
    "from Bio import Phylo\n",
    "from Bio.Phylo.Applications import PhymlCommandline\n",
    "from Bio.Phylo.PAML import codeml\n",
    "from Bio.Phylo.PhyloXML import Phylogeny\n",
    "%matplotlib inline"
   ]
  },
  {
   "cell_type": "markdown",
   "metadata": {},
   "source": [
    "There are more powerful things that can be done with `Phylo` , but for now, we will simply read the tree file output from OrthoFinder and plot it. \n",
    "<br>\n",
    "<br>\n",
    "**Note: Remember to provide the path for the species tree file!**"
   ]
  },
  {
   "cell_type": "code",
   "execution_count": 3,
   "metadata": {},
   "outputs": [],
   "source": [
    "tree = Phylo.read(\"Practice9_SpeciesTree_rooted_node_labels.txt\", \"newick\") ## specify the location of the tree file and the format (in this case, newick)"
   ]
  },
  {
   "cell_type": "markdown",
   "metadata": {},
   "source": [
    "Printing the tree object as a string gives us a look at the entire object hierarchy."
   ]
  },
  {
   "cell_type": "code",
   "execution_count": 4,
   "metadata": {},
   "outputs": [
    {
     "name": "stdout",
     "output_type": "stream",
     "text": [
      "Tree(rooted=False, weight=1.0)\n",
      "    Clade(name='N0')\n",
      "        Clade(branch_length=0.155854, name='A_trichopoda')\n",
      "        Clade(branch_length=0.155854, name='N1')\n",
      "            Clade(branch_length=0.0606656, name='N2')\n",
      "                Clade(branch_length=0.228865, name='M_acuminata')\n",
      "                Clade(branch_length=0.16245, name='N4')\n",
      "                    Clade(branch_length=0.0263692, name='N7')\n",
      "                        Clade(branch_length=0.152926, name='O_sativa')\n",
      "                        Clade(branch_length=0.0448504, name='N11')\n",
      "                            Clade(branch_length=0.0899464, name='B_distachyon')\n",
      "                            Clade(branch_length=0.0623047, name='N18')\n",
      "                                Clade(branch_length=0.021327, name='T_aestivum')\n",
      "                                Clade(branch_length=0.0322549, name='H_vulgare')\n",
      "                    Clade(branch_length=0.0475285, name='N8')\n",
      "                        Clade(branch_length=0.0375789, name='N12')\n",
      "                            Clade(branch_length=0.0473297, name='S_bicolor')\n",
      "                            Clade(branch_length=0.0853178, name='Z_mays')\n",
      "                        Clade(branch_length=0.0267575, name='N13')\n",
      "                            Clade(branch_length=0.125734, name='P_glaucum')\n",
      "                            Clade(branch_length=0.0458442, name='P_virgatum')\n",
      "            Clade(branch_length=0.0434707, name='N3')\n",
      "                Clade(branch_length=0.144636, name='N5')\n",
      "                    Clade(branch_length=0.142634, name='C_quinoa')\n",
      "                    Clade(branch_length=0.189526, name='A_hypochondriacus')\n",
      "                Clade(branch_length=0.0177019, name='N6')\n",
      "                    Clade(branch_length=0.0226836, name='N9')\n",
      "                        Clade(branch_length=0.018779, name='N14')\n",
      "                            Clade(branch_length=0.223986, name='H_annuus')\n",
      "                            Clade(branch_length=0.236829, name='D_carota')\n",
      "                        Clade(branch_length=0.0288145, name='N15')\n",
      "                            Clade(branch_length=0.213288, name='O_europaea')\n",
      "                            Clade(branch_length=0.0332987, name='N19')\n",
      "                                Clade(branch_length=0.1732, name='I_trifida')\n",
      "                                Clade(branch_length=0.0819983, name='N22')\n",
      "                                    Clade(branch_length=0.030284, name='N27')\n",
      "                                        Clade(branch_length=0.0595303, name='N32')\n",
      "                                            Clade(branch_length=0.0215345, name='C_baccatum')\n",
      "                                            Clade(branch_length=0.0155229, name='N38')\n",
      "                                                Clade(branch_length=0.0175606, name='C_chinense')\n",
      "                                                Clade(branch_length=0.0141036, name='C_annuum')\n",
      "                                        Clade(branch_length=0.0215106, name='N33')\n",
      "                                            Clade(branch_length=0.0271149, name='N39')\n",
      "                                                Clade(branch_length=0.0345668, name='L_lycopersicum')\n",
      "                                                Clade(branch_length=0.028645, name='S_tuberosum')\n",
      "                                            Clade(branch_length=0.057139, name='N40')\n",
      "                                                Clade(branch_length=0.0449735, name='S_aethiopicum')\n",
      "                                                Clade(branch_length=0.0930196, name='S_melongena')\n",
      "                                    Clade(branch_length=0.0237471, name='N28')\n",
      "                                        Clade(branch_length=0.0942438, name='P_axillaris')\n",
      "                                        Clade(branch_length=0.0726756, name='N_tabacum')\n",
      "                    Clade(branch_length=0.0108156, name='N10')\n",
      "                        Clade(branch_length=0.0181781, name='N16')\n",
      "                            Clade(branch_length=0.255678, name='K_fedtschenkoi')\n",
      "                            Clade(branch_length=0.185973, name='N20')\n",
      "                                Clade(branch_length=0.0428217, name='N23')\n",
      "                                    Clade(branch_length=0.0540807, name='A_thaliana')\n",
      "                                    Clade(branch_length=0.0438825, name='C_sativa')\n",
      "                                Clade(branch_length=0.0655039, name='N24')\n",
      "                                    Clade(branch_length=0.0264044, name='B_juncea')\n",
      "                                    Clade(branch_length=0.0195624, name='N29')\n",
      "                                        Clade(branch_length=0.0122517, name='B_oleracea')\n",
      "                                        Clade(branch_length=7.08878e-06, name='B_napus')\n",
      "                        Clade(branch_length=0.0173579, name='N17')\n",
      "                            Clade(branch_length=0.183085, name='V_vinifera')\n",
      "                            Clade(branch_length=0.0174968, name='N21')\n",
      "                                Clade(branch_length=0.0181073, name='N25')\n",
      "                                    Clade(branch_length=0.161275, name='G_hirsutum')\n",
      "                                    Clade(branch_length=0.153381, name='M_esculenta')\n",
      "                                Clade(branch_length=0.0120813, name='N26')\n",
      "                                    Clade(branch_length=0.0929668, name='N30')\n",
      "                                        Clade(branch_length=0.0530936, name='N34')\n",
      "                                            Clade(branch_length=0.0534037, name='G_max')\n",
      "                                            Clade(branch_length=0.0416739, name='N41')\n",
      "                                                Clade(branch_length=0.112257, name='V_radiata')\n",
      "                                                Clade(branch_length=0.0343089, name='P_vulgaris')\n",
      "                                        Clade(branch_length=0.0544206, name='N35')\n",
      "                                            Clade(branch_length=0.0883218, name='C_arietinum')\n",
      "                                            Clade(branch_length=0.0267305, name='N42')\n",
      "                                                Clade(branch_length=0.0655017, name='M_truncatula')\n",
      "                                                Clade(branch_length=0.0817244, name='P_sativum')\n",
      "                                    Clade(branch_length=0.0144576, name='N31')\n",
      "                                        Clade(branch_length=0.145725, name='N36')\n",
      "                                            Clade(branch_length=0.0259418, name='N43')\n",
      "                                                Clade(branch_length=0.0648684, name='C_melo')\n",
      "                                                Clade(branch_length=0.0127271, name='N47')\n",
      "                                                    Clade(branch_length=0.0306412, name='B_hispida')\n",
      "                                                    Clade(branch_length=0.0137207, name='N52')\n",
      "                                                        Clade(branch_length=0.0830025, name='L_siceraria')\n",
      "                                                        Clade(branch_length=0.0244921, name='C_lanatus')\n",
      "                                            Clade(branch_length=0.0544347, name='N44')\n",
      "                                                Clade(branch_length=0.0217733, name='C_maxima')\n",
      "                                                Clade(branch_length=0.015159, name='N48')\n",
      "                                                    Clade(branch_length=0.0346505, name='C_pepo')\n",
      "                                                    Clade(branch_length=0.020101, name='C_moschata')\n",
      "                                        Clade(branch_length=0.0667513, name='N37')\n",
      "                                            Clade(branch_length=0.0649491, name='N45')\n",
      "                                                Clade(branch_length=0.0266938, name='N49')\n",
      "                                                    Clade(branch_length=0.038294, name='R_chinensis')\n",
      "                                                    Clade(branch_length=0.0583631, name='F_annanassas')\n",
      "                                                Clade(branch_length=0.0964584, name='R_ideus')\n",
      "                                            Clade(branch_length=0.035775, name='N46')\n",
      "                                                Clade(branch_length=0.0557704, name='N50')\n",
      "                                                    Clade(branch_length=0.0174307, name='P_armeniaca')\n",
      "                                                    Clade(branch_length=0.0115406, name='N53')\n",
      "                                                        Clade(branch_length=0.0138808, name='P_persica')\n",
      "                                                        Clade(branch_length=0.00803339, name='P_dulcis')\n",
      "                                                Clade(branch_length=0.0722022, name='N51')\n",
      "                                                    Clade(branch_length=0.0532603, name='P_communis')\n",
      "                                                    Clade(branch_length=0.0247789, name='N54')\n",
      "                                                        Clade(branch_length=0.0200424, name='M_domestica')\n",
      "                                                        Clade(branch_length=0.0237431, name='M_baccata')\n"
     ]
    }
   ],
   "source": [
    "print(tree)"
   ]
  },
  {
   "cell_type": "markdown",
   "metadata": {},
   "source": [
    "The Tree object contains global information about the tree, such as whether it’s rooted or unrooted. It has one root clade, and under that, it’s nested lists of clades all the way down to the tips.\n",
    "\n",
    "It's hard to draw meaning from this, but we can draw the tree in a more informative way. The function draw_ascii creates a simple ASCII-art (plain text) dendrogram. This is a convenient visualization for interactive exploration, in case better graphical tools aren’t available."
   ]
  },
  {
   "cell_type": "code",
   "execution_count": 5,
   "metadata": {
    "scrolled": true
   },
   "outputs": [
    {
     "name": "stdout",
     "output_type": "stream",
     "text": [
      "  _____________ A_trichopoda\n",
      " |\n",
      " |                    _____________________ M_acuminata\n",
      " |                   |\n",
      " |                   |                  ______________ O_sativa\n",
      " |                   |                _|\n",
      " |              _____|               | |     _______ B_distachyon\n",
      " |             |     |               | |____|\n",
      " |             |     |               |      |     __ T_aestivum\n",
      "_|             |     |               |      |____|\n",
      " |             |     |_______________|           |___ H_vulgare\n",
      " |             |                     |\n",
      " |             |                     |        ___ S_bicolor\n",
      " |             |                     |    ___|\n",
      " |             |                     |   |   |_______ Z_mays\n",
      " |             |                     |___|\n",
      " |             |                         |   ___________ P_glaucum\n",
      " |             |                         |__|\n",
      " |             |                            |___ P_virgatum\n",
      " |_____________|\n",
      "               |                  _____________ C_quinoa\n",
      "               |     ____________|\n",
      "               |    |            |__________________ A_hypochondriacus\n",
      "               |    |\n",
      "               |    |     _____________________ H_annuus\n",
      "               |    |   _|\n",
      "               |    |  | |______________________ D_carota\n",
      "               |    |  |\n",
      "               |    | _|   ____________________ O_europaea\n",
      "               |    || |  |\n",
      "               |    || |  |   ________________ I_trifida\n",
      "               |    || |  |  |\n",
      "               |____|| |__|  |                 _ C_baccatum\n",
      "                    ||    |  |           _____|\n",
      "                    ||    |  |          |     | _ C_chinense\n",
      "                    ||    |  |          |     ||\n",
      "                    ||    |__|          |      |_ C_annuum\n",
      "                    ||       |        __|\n",
      "                    ||       |       |  |     __ L_lycopersicum\n",
      "                    ||       |       |  |  __|\n",
      "                    ||       |       |  | |  |_ S_tuberosum\n",
      "                    ||       |       |  |_|\n",
      "                    ||       |_______|    |      ___ S_aethiopicum\n",
      "                    ||               |    |_____|\n",
      "                     |               |          |________ S_melongena\n",
      "                     |               |\n",
      "                     |               |  ________ P_axillaris\n",
      "                     |               |_|\n",
      "                     |                 |______ N_tabacum\n",
      "                     |\n",
      "                     |   _______________________ K_fedtschenkoi\n",
      "                     |  |\n",
      "                     | _|                      ____ A_thaliana\n",
      "                     || |                  ___|\n",
      "                     || |                 |   |___ C_sativa\n",
      "                     || |_________________|\n",
      "                     ||                   |      __ B_juncea\n",
      "                     ||                   |_____|\n",
      "                     ||                         | , B_oleracea\n",
      "                     ||                         |_|\n",
      "                      |                           | B_napus\n",
      "                      |\n",
      "                      |  ________________ V_vinifera\n",
      "                      | |\n",
      "                      | |   _______________ G_hirsutum\n",
      "                      | | ,|\n",
      "                      | | ||______________ M_esculenta\n",
      "                      |_| |\n",
      "                        | |               ____ G_max\n",
      "                        | |          ____|\n",
      "                        | |         |    |    _________ V_radiata\n",
      "                        | |         |    |___|\n",
      "                        | | ________|        |__ P_vulgaris\n",
      "                        |_||        |\n",
      "                          ||        |     _______ C_arietinum\n",
      "                          ||        |____|\n",
      "                          ||             |  ______ M_truncatula\n",
      "                          ||             |_|\n",
      "                          ||               |_______ P_sativum\n",
      "                          ||\n",
      "                          ||                  _____ C_melo\n",
      "                          ||               __|\n",
      "                          ||              |  | __ B_hispida\n",
      "                           |              |  ||\n",
      "                           |              |   | _______ L_siceraria\n",
      "                           | _____________|   ||\n",
      "                           ||             |    |_ C_lanatus\n",
      "                           ||             |\n",
      "                           ||             |     _ C_maxima\n",
      "                           ||             |____|\n",
      "                           ||                  |  __ C_pepo\n",
      "                           ||                  |_|\n",
      "                           ||                    |_ C_moschata\n",
      "                            |\n",
      "                            |               ___ R_chinensis\n",
      "                            |             _|\n",
      "                            |       _____| |_____ F_annanassas\n",
      "                            |      |     |\n",
      "                            |      |     |________ R_ideus\n",
      "                            |      |\n",
      "                            |______|        _ P_armeniaca\n",
      "                                   |   ____|\n",
      "                                   |  |    | _ P_persica\n",
      "                                   |  |    ||\n",
      "                                   |__|     | P_dulcis\n",
      "                                      |\n",
      "                                      |       ____ P_communis\n",
      "                                      |______|\n",
      "                                             |  _ M_domestica\n",
      "                                             |_|\n",
      "                                               |_ M_baccata\n",
      "\n"
     ]
    }
   ],
   "source": [
    "Phylo.draw_ascii(tree)"
   ]
  },
  {
   "cell_type": "markdown",
   "metadata": {},
   "source": [
    "Here we can see we constructed OrthoGroups for 56 flowering plant species across ~20 plant families. See if you can figure out which species are which and read the tree correctly. \n",
    "\n",
    "You can also create a slightly nicer graphic using the draw function:"
   ]
  },
  {
   "cell_type": "code",
   "execution_count": 6,
   "metadata": {
    "scrolled": true
   },
   "outputs": [
    {
     "data": {
      "image/png": "[encoded data removed]",
      "text/plain": [
       "<Figure size 432x288 with 1 Axes>"
      ]
     },
     "metadata": {
      "filenames": {
       "image/png": "/sam2/Projects/PlantsAndPython/_build/jupyter_execute/P_9_COMPARATIVE_GENOMICS/1_Practice_19_0.png"
      },
      "needs_background": "light"
     },
     "output_type": "display_data"
    }
   ],
   "source": [
    "Phylo.draw(tree, branch_labels=lambda c: c.branch_length)"
   ]
  },
  {
   "cell_type": "markdown",
   "metadata": {},
   "source": [
    "# Analyzing Orthofinder gene family results"
   ]
  },
  {
   "cell_type": "markdown",
   "metadata": {},
   "source": [
    "Now that we have a good sense of the phylogenetic placement of our species, we can play around with the OrthoFinder results. The primary output of OrthoFinder is a csv file where each row is a different orthogroup and each column is a different species  The numbers correspond to the number of genes in that orthogroup for each species. We can use this to get simple metrics on or more complex dynamics of expansion and contraction of genes in specific lineages. In terms of downstream analyses, you could identify an orthogroup that contains your favorite gene and find the orthologous sequences in all your other species of interest. You could identify expanded or contracted orthogroups in one species and use Gene Ontology terms or other classifiers to see what those duplicated genes are likely involved in. \n",
    "<br>\n",
    "You could also use these orthogroups as common identifiers across species and map expression to each orthogroup (as we did in last year's class porject). "
   ]
  },
  {
   "cell_type": "markdown",
   "metadata": {},
   "source": [
    "For simplicity, we will use `pandas` to read in, manipulate, and analyze our dataframe: "
   ]
  },
  {
   "cell_type": "code",
   "execution_count": 7,
   "metadata": {},
   "outputs": [],
   "source": [
    "import matplotlib.pyplot as plt\n",
    "%matplotlib inline\n",
    "import numpy as np\n",
    "import pandas as pd"
   ]
  },
  {
   "cell_type": "code",
   "execution_count": 8,
   "metadata": {},
   "outputs": [
    {
     "data": {
      "text/html": [
       "<div>\n",
       "<style scoped>\n",
       "    .dataframe tbody tr th:only-of-type {\n",
       "        vertical-align: middle;\n",
       "    }\n",
       "\n",
       "    .dataframe tbody tr th {\n",
       "        vertical-align: top;\n",
       "    }\n",
       "\n",
       "    .dataframe thead th {\n",
       "        text-align: right;\n",
       "    }\n",
       "</style>\n",
       "<table border=\"1\" class=\"dataframe\">\n",
       "  <thead>\n",
       "    <tr style=\"text-align: right;\">\n",
       "      <th></th>\n",
       "      <th>Orthogroup</th>\n",
       "      <th>A_hypochondriacus</th>\n",
       "      <th>A_thaliana</th>\n",
       "      <th>A_trichopoda</th>\n",
       "      <th>B_distachyon</th>\n",
       "      <th>B_hispida</th>\n",
       "      <th>B_juncea</th>\n",
       "      <th>B_napus</th>\n",
       "      <th>B_oleracea</th>\n",
       "      <th>C_annuum</th>\n",
       "      <th>...</th>\n",
       "      <th>R_ideus</th>\n",
       "      <th>S_aethiopicum</th>\n",
       "      <th>S_bicolor</th>\n",
       "      <th>S_melongena</th>\n",
       "      <th>S_tuberosum</th>\n",
       "      <th>T_aestivum</th>\n",
       "      <th>V_radiata</th>\n",
       "      <th>V_vinifera</th>\n",
       "      <th>Z_mays</th>\n",
       "      <th>Total</th>\n",
       "    </tr>\n",
       "  </thead>\n",
       "  <tbody>\n",
       "    <tr>\n",
       "      <th>0</th>\n",
       "      <td>OG0000000</td>\n",
       "      <td>0</td>\n",
       "      <td>0</td>\n",
       "      <td>0</td>\n",
       "      <td>0</td>\n",
       "      <td>0</td>\n",
       "      <td>0</td>\n",
       "      <td>0</td>\n",
       "      <td>0</td>\n",
       "      <td>0</td>\n",
       "      <td>...</td>\n",
       "      <td>0</td>\n",
       "      <td>16</td>\n",
       "      <td>0</td>\n",
       "      <td>12967</td>\n",
       "      <td>0</td>\n",
       "      <td>0</td>\n",
       "      <td>0</td>\n",
       "      <td>0</td>\n",
       "      <td>0</td>\n",
       "      <td>12989</td>\n",
       "    </tr>\n",
       "    <tr>\n",
       "      <th>1</th>\n",
       "      <td>OG0000001</td>\n",
       "      <td>0</td>\n",
       "      <td>2</td>\n",
       "      <td>13</td>\n",
       "      <td>0</td>\n",
       "      <td>12</td>\n",
       "      <td>19</td>\n",
       "      <td>1</td>\n",
       "      <td>0</td>\n",
       "      <td>66</td>\n",
       "      <td>...</td>\n",
       "      <td>5</td>\n",
       "      <td>29</td>\n",
       "      <td>0</td>\n",
       "      <td>4560</td>\n",
       "      <td>62</td>\n",
       "      <td>0</td>\n",
       "      <td>6</td>\n",
       "      <td>1</td>\n",
       "      <td>6</td>\n",
       "      <td>6079</td>\n",
       "    </tr>\n",
       "    <tr>\n",
       "      <th>2</th>\n",
       "      <td>OG0000002</td>\n",
       "      <td>38</td>\n",
       "      <td>6</td>\n",
       "      <td>4</td>\n",
       "      <td>3</td>\n",
       "      <td>7</td>\n",
       "      <td>26</td>\n",
       "      <td>22</td>\n",
       "      <td>10</td>\n",
       "      <td>129</td>\n",
       "      <td>...</td>\n",
       "      <td>132</td>\n",
       "      <td>85</td>\n",
       "      <td>2</td>\n",
       "      <td>66</td>\n",
       "      <td>74</td>\n",
       "      <td>5</td>\n",
       "      <td>22</td>\n",
       "      <td>9</td>\n",
       "      <td>1</td>\n",
       "      <td>3690</td>\n",
       "    </tr>\n",
       "    <tr>\n",
       "      <th>3</th>\n",
       "      <td>OG0000003</td>\n",
       "      <td>1</td>\n",
       "      <td>41</td>\n",
       "      <td>17</td>\n",
       "      <td>0</td>\n",
       "      <td>24</td>\n",
       "      <td>71</td>\n",
       "      <td>113</td>\n",
       "      <td>39</td>\n",
       "      <td>73</td>\n",
       "      <td>...</td>\n",
       "      <td>42</td>\n",
       "      <td>16</td>\n",
       "      <td>0</td>\n",
       "      <td>75</td>\n",
       "      <td>60</td>\n",
       "      <td>0</td>\n",
       "      <td>19</td>\n",
       "      <td>44</td>\n",
       "      <td>0</td>\n",
       "      <td>3215</td>\n",
       "    </tr>\n",
       "    <tr>\n",
       "      <th>4</th>\n",
       "      <td>OG0000004</td>\n",
       "      <td>8</td>\n",
       "      <td>33</td>\n",
       "      <td>1</td>\n",
       "      <td>25</td>\n",
       "      <td>18</td>\n",
       "      <td>62</td>\n",
       "      <td>106</td>\n",
       "      <td>47</td>\n",
       "      <td>60</td>\n",
       "      <td>...</td>\n",
       "      <td>84</td>\n",
       "      <td>22</td>\n",
       "      <td>33</td>\n",
       "      <td>39</td>\n",
       "      <td>51</td>\n",
       "      <td>132</td>\n",
       "      <td>30</td>\n",
       "      <td>46</td>\n",
       "      <td>22</td>\n",
       "      <td>3102</td>\n",
       "    </tr>\n",
       "  </tbody>\n",
       "</table>\n",
       "<p>5 rows × 58 columns</p>\n",
       "</div>"
      ],
      "text/plain": [
       "  Orthogroup  A_hypochondriacus  A_thaliana  A_trichopoda  B_distachyon  \\\n",
       "0  OG0000000                  0           0             0             0   \n",
       "1  OG0000001                  0           2            13             0   \n",
       "2  OG0000002                 38           6             4             3   \n",
       "3  OG0000003                  1          41            17             0   \n",
       "4  OG0000004                  8          33             1            25   \n",
       "\n",
       "   B_hispida  B_juncea  B_napus  B_oleracea  C_annuum  ...  R_ideus  \\\n",
       "0          0         0        0           0         0  ...        0   \n",
       "1         12        19        1           0        66  ...        5   \n",
       "2          7        26       22          10       129  ...      132   \n",
       "3         24        71      113          39        73  ...       42   \n",
       "4         18        62      106          47        60  ...       84   \n",
       "\n",
       "   S_aethiopicum  S_bicolor  S_melongena  S_tuberosum  T_aestivum  V_radiata  \\\n",
       "0             16          0        12967            0           0          0   \n",
       "1             29          0         4560           62           0          6   \n",
       "2             85          2           66           74           5         22   \n",
       "3             16          0           75           60           0         19   \n",
       "4             22         33           39           51         132         30   \n",
       "\n",
       "   V_vinifera  Z_mays  Total  \n",
       "0           0       0  12989  \n",
       "1           1       6   6079  \n",
       "2           9       1   3690  \n",
       "3          44       0   3215  \n",
       "4          46      22   3102  \n",
       "\n",
       "[5 rows x 58 columns]"
      ]
     },
     "execution_count": 8,
     "metadata": {},
     "output_type": "execute_result"
    }
   ],
   "source": [
    "data = pd.read_csv(\"Practice9_Orthogroups.GeneCount.csv\")\n",
    "data.head()"
   ]
  },
  {
   "cell_type": "markdown",
   "metadata": {},
   "source": [
    "### How many total orthogroups are there for this dataset?"
   ]
  },
  {
   "cell_type": "code",
   "execution_count": 9,
   "metadata": {},
   "outputs": [],
   "source": [
    "## Answer"
   ]
  },
  {
   "cell_type": "markdown",
   "metadata": {},
   "source": [
    "### Which species has the most genes in orthogroups? "
   ]
  },
  {
   "cell_type": "code",
   "execution_count": 10,
   "metadata": {},
   "outputs": [],
   "source": [
    "## Answer"
   ]
  },
  {
   "cell_type": "markdown",
   "metadata": {},
   "source": [
    "### Which orthogroup has the most genes in it (across all species)?"
   ]
  },
  {
   "cell_type": "code",
   "execution_count": 11,
   "metadata": {},
   "outputs": [],
   "source": [
    "## Answer"
   ]
  },
  {
   "cell_type": "markdown",
   "metadata": {},
   "source": [
    "### Which species has the most orthogroups with 0 genes? Why do you think that is? "
   ]
  },
  {
   "cell_type": "code",
   "execution_count": 12,
   "metadata": {},
   "outputs": [],
   "source": [
    "## Answer"
   ]
  },
  {
   "cell_type": "markdown",
   "metadata": {},
   "source": [
    "### Bonus challenge: Plot the distribution of orthogroup size "
   ]
  },
  {
   "cell_type": "code",
   "execution_count": 13,
   "metadata": {},
   "outputs": [],
   "source": [
    "## Answer"
   ]
  },
  {
   "cell_type": "markdown",
   "metadata": {},
   "source": [
    "### BONUS challenge 2X: Identify orthogroups that are expanded in one species of your choice. This can be simply based on some cutoff, or preferably, using a statistical test. "
   ]
  },
  {
   "cell_type": "code",
   "execution_count": 14,
   "metadata": {},
   "outputs": [],
   "source": [
    "## Answer"
   ]
  }
 ],
 "metadata": {
  "kernelspec": {
   "display_name": "Python 3 (ipykernel)",
   "language": "python",
   "name": "python3"
  },
  "language_info": {
   "codemirror_mode": {
    "name": "ipython",
    "version": 3
   },
   "file_extension": ".py",
   "mimetype": "text/x-python",
   "name": "python",
   "nbconvert_exporter": "python",
   "pygments_lexer": "ipython3",
   "version": "3.8.10"
  }
 },
 "nbformat": 4,
 "nbformat_minor": 2
}