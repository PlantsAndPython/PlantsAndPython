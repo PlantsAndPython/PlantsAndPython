{
 "cells": [
  {
   "cell_type": "markdown",
   "metadata": {},
   "source": [
    "# Activity 3: Cómo construir un girasol 🌻 "
   ]
  },
  {
   "cell_type": "markdown",
   "metadata": {},
   "source": [
    "___"
   ]
  },
  {
   "cell_type": "markdown",
   "metadata": {},
   "source": [
    "En esta actividad, aprenderemos a codificar el intrincado y hermoso conjunto de floretes en una cabeza de girasol, exploraremos la como la disposición de los floretes tiende al ángulo dorado y crearemos animaciones de un girasol en crecimiento.\n",
    "\n",
    "Como tarea previa a esta actividad, debemos leer el [\"Capítulo 4 - Phyllotaxis\"](http://algorithmicbotany.org/papers/abop/abop-ch4.pdf) de [*The Algorithmic Beauty of Plants*](http://algorithmicbotany.org/papers/#abop). La inspiración y la teoría detrás de la codificación que harás hoy viene de ahí. \n",
    "\n",
    "Las fórmulas también provienen del capítulo, pero éstas a su vez derivan del trabajo clásico de Vogel, \"A better way to construct the sunflower head\". Ambos trabajos forman la base de la actividad de hoy. Echa un vistazo al texto si tienes la oportunidad (no es estrictamente necesario) para familiarizarte con algunas de las matemáticas que usaremos en la actividad de hoy.\n",
    "\n",
    "> **Referencias:**\n",
    ">\n",
    "> P. Prusinkiewicz and A. Lindenmayer. [The algorithmic beauty of plants](http://algorithmicbotany.org/papers/#abop). Springer-Verlag, Berlin, Heidelberg, 1990. ISBN:0-387-97297-8\n",
    ">\n",
    "> H. Vogel. [A better way to construct the sunflower head](https://doi.org/10.1016/0025-5564(79)90080-4). *Mathematical Biosciences*, 44:179–189, 1979."
   ]
  },
  {
   "cell_type": "markdown",
   "metadata": {},
   "source": [
    "___\n",
    "## La fórmula de un girasol\n",
    "\n",
    "Del capítulo de *The Algorithmic Beauty of Plants* que leímos, aprendimos que Vogel propuso las siguientes fórmulas para calcular el ángulo y el radio de cada flor en la cabeza de un girasol:\n",
    "\n",
    "```python\n",
    "theta = n * phi\n",
    "r = sqrt(n)\n",
    "```\n",
    "\n",
    "Donde `n` es el número ordenado de cada florete en una cabeza de girasol, `theta` es el ángulo de la flor, `phi` es el ángulo dorado y `r` es el radio, la distancia entre la flor y el centro del girasol. Debemos pensar que cada florete secuencial tiene un \"giro\" de `phi` y que tiene un radio más largo que el anterior, siguiendo una función de raíz cuadrada.\n",
    "\n",
    "También recuerdemos de nuevo de trigonometría que en un triángulo rectángulo, `cos` y` sin` son los lados adyacentes y opuestos divididos por la hipotenusa respectivamente. En el contexto de un plano cartesiano radial centrado en (0,0), para recuperar las coordenadas `x` e` y` usamos las siguientes ecuaciones:\n",
    "\n",
    "```python\n",
    "x = r * cos(theta)\n",
    "y = r * sin(theta)\n",
    "```\n",
    "\n",
    "Finalmente, trabajaremos en radianes, no en grados. Recordemos también de la trigonometría que para convertir grados en radianes, multiplicamos grados por $\\displaystyle\\frac{\\pi}{180}$."
   ]
  },
  {
   "cell_type": "markdown",
   "metadata": {},
   "source": [
    "___\n",
    "## ¡Construye un girasol!\n",
    "\n",
    "Usando las ecuaciones anteriores, ¡construye un girasol!\n",
    "\n",
    "Pero primero, dado que usaremos mucho el ángulo dorado, hagamos que sea una variable. En la celda de abajo, se proporciona el ángulo dorado en grados. Crea una nueva variable llamada `phi` que sea el ángulo dorado en radianes.\n",
    "\n",
    "Sería conveniente tener $\\pi$. La celda de abajo importa el módulo `math`, ¡que probablemente necesitaremos a menudo! Para recuperar el valor de $\\pi$, simplemente escribe `math.pi`. También necesitaremos `math` para las funciones `math.sqrt()`, `math.cos()` y `math.sin()` en esta lección."
   ]
  },
  {
   "cell_type": "code",
   "execution_count": 1,
   "metadata": {},
   "outputs": [],
   "source": [
    "import math  \n",
    "\n",
    "# From the online encyclopedia of integer sequences: \n",
    "# https://oeis.org/A096627\n",
    "\n",
    "golden_angle = 137.5077640500378546463487396283702776206886952699253696312384958261062333851951\n",
    "\n",
    "# Calcula el ángulo dorado en radianes\n",
    "# Llama a la variable phi\n",
    "\n"
   ]
  },
  {
   "cell_type": "markdown",
   "metadata": {},
   "source": [
    "A continuación, escribe un loop `for` para calcular las coordenadas  `x` e `y` de cada flor.\n",
    "\n",
    "**Haz lo siguiente:**\n",
    "\n",
    "* Crea dos listas para las coordenadas fuera del ciclo: una lista para los valores `x` y una lista para los valores` y`\n",
    "* El ciclo `for` debe iterarse 1000 veces, calculando los valores de las coordenadas` x` e `y` para 1000 floretes\n",
    "* Dentro del loop, para cada florete, calcula:\n",
    "   * Radio\n",
    "   * Theta\n",
    "   * valor de la coordenada x\n",
    "   * valor de la coordenada y\n",
    "* Agrega los valores de las coordenadas `x` e` y` a sus respectivas listas"
   ]
  },
  {
   "cell_type": "code",
   "execution_count": 2,
   "metadata": {},
   "outputs": [],
   "source": [
    "# Escribe tu respuesta aquí\n",
    "\n",
    "\n"
   ]
  },
  {
   "cell_type": "markdown",
   "metadata": {},
   "source": [
    "Luego, grafica los resultados con `matplotlib.`\n",
    "\n",
    "* Presta atención al tamaño de los puntos, que no se superpongan demasiado pero que tampoco sean demasiado pequeños.\n",
    "* Elige un color apropiado.\n",
    "* Ajusta la transparencia de forma adecuada.\n",
    "* Considera igualar la escala de los ejes x e y\n",
    "* Remueve los ejes\n",
    "* Siempre cuida la estética, ***especialmente*** al trazar girasoles."
   ]
  },
  {
   "cell_type": "code",
   "execution_count": 3,
   "metadata": {},
   "outputs": [],
   "source": [
    "# Siempre se debe importar matplotlib\n",
    "# y usar la opcion inline\n",
    "\n",
    "import matplotlib.pyplot as plt\n",
    "%matplotlib inline\n",
    "\n",
    "# Realiza tu gráfico aquí\n",
    "\n"
   ]
  },
  {
   "cell_type": "markdown",
   "metadata": {},
   "source": [
    "___\n",
    "## ¡La importancia del ángulo!"
   ]
  },
  {
   "cell_type": "markdown",
   "metadata": {},
   "source": [
    "Del capítulo de *The Algorithmic Beauty of Plants* sabemos que la acumulación de floretes en un girasol es extremadamente sensible al valor exacto del ángulo dorado. Un poco más o un poco menos y la disposición bellamente espaciada a simple vista se destruye. Esto se debe a las propiedades matemáticas especiales del ángulo dorado.\n",
    "\n",
    "En este ejercicio, tomaremos las flores de girasol que acabamos de crear usando su loop `for` y crearemos una animación, donde el valor del ángulo dorado se desvía $\\pm1$ grados en 100 pasos. Usando esta animación, observaremos la sensibilidad del empaque de floretes en un girasol al ángulo dorado, y cómo esta sensibilidad varía más cerca y más lejos del centro.\n",
    "\n",
    "¡Nuestra estrategia será crear un loop dentro del loop! La lógica es la siguiente: ya hemos creado un bucle que calculará todas las coordenadas `x` e` y` en un girasol. ¡Pon ese loop en otro loop! El loop exterior iterará sobre las desviaciones del ángulo dorado. Entonces, el flujo se verá así:\n",
    "\n",
    "1. El loop exterior crea un nuevo valor de ángulo,\n",
    "2. El loop interno calcula todos los valores de las coordenadas `x` e` y` para el nuevo valor del ángulo,\n",
    "3. Salimos del loop interior, y estamos de vuelta en el loop exterior,\n",
    "4. El código anterior para trazar un girasol traza los floretes para el ángulo actual,\n",
    "5. ¡El loop exterior se repite con un nuevo valor de ángulo y forma un nuevo cuadro de la animación!\n",
    "\n",
    "Solo una cosa más. \n",
    "\n",
    "Estaremos iterando en 100 pasos desde -1 a +1 grados del ángulo dorado. ¿Cómo se especifica un número determinado de pasos entre dos valores? Una función para hacer esto es `linspace()`, del módulo `numpy`. `linspace()` toma un valor de inicio (inclusivo), un valor de parada (inclusivo) y un número de pasos para iterar incrementalmente sobre el intervalo. ¡Usemos esto en el loop exterior para ajustar minuciosamente el valor del ángulo $\\pm1$ grados del ángulo dorado!\n",
    "\n",
    "En la celda a continuación, se proporciona un pseudocódigo para guiar la construcción del loop dentro del loop. Recuerda usar el código anterior (con algunas modificaciones) para calcular los valores de las coordenadas `x` e` y` y para trazar el girasol.\n",
    "\n",
    "Este ejercicio está destinado a que dediques tiempo a pensar en cómo funcionan los loops complejos y en cómo modificar y ajustar el código para diferentes propósitos. \n",
    "\n",
    "Si tienes éxito, ¡crearás una hermosa animación de girasol!\n",
    "\n",
    "¡Sigue el pseudocódigo y completa las partes que faltan!"
   ]
  },
  {
   "cell_type": "code",
   "execution_count": 4,
   "metadata": {},
   "outputs": [
    {
     "data": {
      "text/plain": [
       "<Figure size 720x720 with 0 Axes>"
      ]
     },
     "metadata": {},
     "output_type": "display_data"
    },
    {
     "data": {
      "text/plain": [
       "<Figure size 720x720 with 0 Axes>"
      ]
     },
     "metadata": {},
     "output_type": "display_data"
    }
   ],
   "source": [
    "# Importes para la animación\n",
    "from IPython.display import display, clear_output \n",
    "import time  \n",
    "\n",
    "# Importa numpy para usar linspace\n",
    "import numpy as np\n",
    "\n",
    "# Para la animación, necesitamos un lienzo\n",
    "fig = plt.figure(figsize=(10,10)) \n",
    "\n",
    "# Usamos linspace() para cream incrementos de -1 a +1\n",
    "for i in np.linspace(-1, 1, 100):\n",
    "    \n",
    "    # Crea una nueva variable \"new_angle\"\n",
    "    # \"new_angle\" será golden_angle + i\n",
    "    # Recuerda que el nuevo ángulo debe ser en radianes!\n",
    "    \n",
    "    \n",
    "    \n",
    "    # Aquí podemos reciclar nuestro loop anterior para\n",
    "    # calcular las coordenadas x e y\n",
    "    # theta debe ser calculado con nuestro ángulo nuevo\n",
    "    # Recuerda que python toma en cuenta la sangría\n",
    "    # Doble sangría indicará un loop dentro de un loop\n",
    "    # Mantén las listas de coordenadas x e y fuera del loop interno\n",
    "    # pero dentro del loop externo\n",
    "    # Como antes, calcularemos la posición de 1000 floretes\n",
    "    \n",
    "    # Recicla tu loop anterior\n",
    "    \n",
    "    \n",
    "    \n",
    "    \n",
    "    \n",
    "    \n",
    "    \n",
    "    \n",
    "    # Hemos concluido el loop interno\n",
    "    # Es hora de movernos al loop externo\n",
    "    \n",
    "    \n",
    "    # Usa tu código para graficar el girasol\n",
    "    \n",
    "    \n",
    "\n",
    "    # Este código crea la animación\n",
    "    time.sleep(0.1) \n",
    "    clear_output(wait=True)\n",
    "    display(fig)\n",
    "    fig.clear()"
   ]
  },
  {
   "cell_type": "markdown",
   "metadata": {},
   "source": [
    "___\n",
    "## ¡Pero los girasoles crecen!\n",
    "\n",
    "Todavía no hemos terminado. ¡En el mundo real los girasoles también crecen! Los floretes surgen de un meristemo (una población de células madre) en el centro del girasol. En la periferia del meristemo apical del brote en el centro del girasol, se determina que las células se convertirán en una flor. Llamamos \"pluripotencia\" a la capacidad de las células, como los meristemos, para producir diferentes tipos de tejidos. Decimos que las células están \"determinadas\" o \"predestinadas\" a convertirse en un tipo particular de tejido a medida que pierden pluripotencia. Las células \"diferenciadas\" ya se han convertido en un tejido particular. Después de que una flor se ha diferenciado, se aleja del centro del girasol.\n",
    "\n",
    "En las gráficas anteriores, los floretes de la periferia fueron los primeros en surgir y fueron \"empujados\" desde el centro por todos los demás floretes que surgieron posteriormente. ¡Creemos una animación en la que veamos florecer floretes en el centro y moverse hacia afuera!\n",
    "\n",
    "Vas a:\n",
    "\n",
    "1. Crear listas `thetas` y` radii` como antes. Simplemente usaremos el código previo para calcular las thetas y los radios.\n",
    "\n",
    "1. Una vez que nace, una flor ***siempre*** mantiene la misma theta. Pero el radio se hace cada vez más amplio.\n",
    "\n",
    "1. Nuestro primer loop creará listas de theta y radios que aumentan de longitud con cada iteración. Comenzaremos con un florete, luego dos, y así sucesivamente, y con cada florete adicional, los radios de los primeros floretes serán cada vez más amplios. Comenzaremos sin floretes y cultivaremos nuestro girasol, agregando más y más. Este loop toma un miembro más de las listas `thetas` y `radii` con cada iteración.\n",
    "\n",
    "1. Sin embargo, hay un problema. Cada vez que agregamos más elementos a nuestras listas, los \"thethas\" y \"radios\" más antiguos (asociados a flores únicos) se hallan **al inicio** de las listas `thetas` y `radii`. ¡Los \"radios\" más antiguos son los radios más cortos, pero los \"thetas\" más antiguos deben corresponder a radios amplios!\n",
    "\n",
    "1. Usaremos la función `.reverse ()`, que invierte el orden de los elementos de una lista. Lo que esto hará es asegurar que los \"thetas\" más antiguos de la lista `thetas` correspondan a los radios más amplios de la lista `radii`.\n",
    "\n",
    "1. Recapitulando: agregamos una flor más con cada iteración. Pero el primer florete siempre tendría el radio más corto, a menos que invirtiéramos la lista de radios. Al invertir la lista de radios, el primer florete tendrá un radio creciente.\n",
    "\n",
    "Sigue el razonamiento anterior y asegúrese de comprenderlo. En las celdas siguientes se proporciona un pseudocódigo con comentarios. Usando este esqueleto, completa el resto del código. El código consta de dos partes:\n",
    "\n",
    "1. Primero, usando un loop `for`, crea dos listas: `thetas` y `radii`. Estas listas deben contener **750** valores theta y radio para floretes.\n",
    "\n",
    "2. Con el pseudocódigo proporcionado, crea una animación de un girasol en crecimiento."
   ]
  },
  {
   "cell_type": "code",
   "execution_count": 5,
   "metadata": {},
   "outputs": [],
   "source": [
    "# Crea las listas vacías thetas y radii\n",
    "# Con un loop, llena las listas con los valores correspondietes a 750 floretes\n",
    "# Puedes usar código previo\n",
    "\n",
    "# Escribe tu respuesta\n",
    "\n",
    "\n"
   ]
  },
  {
   "cell_type": "code",
   "execution_count": 6,
   "metadata": {},
   "outputs": [
    {
     "ename": "IndentationError",
     "evalue": "expected an indented block (4290839089.py, line 56)",
     "output_type": "error",
     "traceback": [
      "\u001b[0;36m  File \u001b[0;32m\"/tmp/ipykernel_29327/4290839089.py\"\u001b[0;36m, line \u001b[0;32m56\u001b[0m\n\u001b[0;31m    time.sleep(0.001)\u001b[0m\n\u001b[0m    ^\u001b[0m\n\u001b[0;31mIndentationError\u001b[0m\u001b[0;31m:\u001b[0m expected an indented block\n"
     ]
    }
   ],
   "source": [
    "# Completa el código siguiente para crear una animación de cómo crecen los floretes en un girasol\n",
    "# Presta atención a ambos loops y cual es el propósito de cada uno\n",
    "# Presta atención a los índices de cada lista\n",
    "# Observa como se usa la función .reverse()\n",
    "# Observa como el código crea una animación cuadro por cuadro del crecimiento de un girasol\n",
    "\n",
    "# Escribe tu respuesta\n",
    "\n",
    "# Importes para animar el resultado\n",
    "from IPython.display import display, clear_output\n",
    "import time  \n",
    "\n",
    "# Para la animación, debemos de establecer un canvas/figure\n",
    "fig = plt.figure()\n",
    "\n",
    "for i in range(len(radii)):\n",
    "\n",
    "    xlist = []\n",
    "    ylist = []\n",
    "    \n",
    "    # Aquí seleccionamos los thetas del momento\n",
    "    current_thetas = thetPs[0:(i+1)]\n",
    "    \n",
    "    # Aquí seleccionamos los radios correspondientes a los thetas anteriores\n",
    "    # Cada vez que iteramos el loop, esta lista va de menor a mayor\n",
    "    \n",
    "    current_radii = radii[0:(i+1)]\n",
    "    # Por ello, debemos de revertir el orden\n",
    "    # De ese modo, los valores ahora van de mayor a menor\n",
    "    # Los floretes con los primeros thetas deben de corresponder a los radios más amplios\n",
    "    \n",
    "    current_radii.reverse()\n",
    "\n",
    "    for n in range (i+1): \n",
    "        \n",
    "        # Para cada florete n, calcula r y theta, coordenadas x e y\n",
    "        # añade las coordenadas a listas respectivas\n",
    "\n",
    "        \n",
    "        \n",
    "        \n",
    "        \n",
    "        \n",
    "        \n",
    "        \n",
    "    # Hemos salido del loop interno\n",
    "    # Estamos de vuelta en el loop externo\n",
    "    \n",
    "\n",
    "    \n",
    "    # Usa el código previo para graficar el girasol\n",
    "    \n",
    "    \n",
    "    \n",
    "    # Con estas líneas creamos una animación\n",
    "    time.sleep(0.001) \n",
    "    clear_output(wait=True)\n",
    "    display(fig)\n",
    "    fig.clear()\n",
    "\n",
    "# Closes the figure animation once complete\n",
    "# plt.close()"
   ]
  }
 ],
 "metadata": {
  "kernelspec": {
   "display_name": "Python 3",
   "language": "python",
   "name": "python3"
  },
  "language_info": {
   "codemirror_mode": {
    "name": "ipython",
    "version": 3
   },
   "file_extension": ".py",
   "mimetype": "text/x-python",
   "name": "python",
   "nbconvert_exporter": "python",
   "pygments_lexer": "ipython3",
   "version": "3.8.10"
  }
 },
 "nbformat": 4,
 "nbformat_minor": 2
}