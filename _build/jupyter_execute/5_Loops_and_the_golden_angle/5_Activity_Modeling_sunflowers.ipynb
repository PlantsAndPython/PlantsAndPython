{
 "cells": [
  {
   "cell_type": "markdown",
   "metadata": {},
   "source": [
    "# Activity 3: How to Build a Sunflower 🌻 "
   ]
  },
  {
   "cell_type": "markdown",
   "metadata": {},
   "source": [
    "___"
   ]
  },
  {
   "cell_type": "markdown",
   "metadata": {},
   "source": [
    "In this activity, you will learn how to code the intricate, beautiful packing of florets in a sunflower head, explore the sensitivity of the arrangement of florets to the golden angle, and create animations of a growing sunflower.\n",
    "\n",
    "Your reading assignment before this activity is [\"Chapter 4 - Phyllotaxis\"](http://algorithmicbotany.org/papers/abop/abop-ch4.pdf) from [*The Algorithmic Beauty of Plants*](http://algorithmicbotany.org/papers/#abop). The inspiration and theory behind the coding you will be doing today comes from there. The formulas, too, also come from the chapter, but ultimately derive from the classic work by Vogel, \"A better way to construct the sunflower head\". Both of these works form the basis for today's activity. Skim over the reading assignment if you have the chance (there is no need to) to get a feel for some of the math we will be using in today's activity.\n",
    "\n",
    "> **References:**\n",
    ">\n",
    "> P. Prusinkiewicz and A. Lindenmayer. [The algorithmic beauty of plants](http://algorithmicbotany.org/papers/#abop). Springer-Verlag, Berlin, Heidelberg, 1990. ISBN:0-387-97297-8\n",
    ">\n",
    "> H. Vogel. [A better way to construct the sunflower head](https://doi.org/10.1016/0025-5564(79)90080-4). *Mathematical Biosciences*, 44:179–189, 1979."
   ]
  },
  {
   "cell_type": "markdown",
   "metadata": {},
   "source": [
    "___\n",
    "## The formula for a sunflower\n",
    "\n",
    "From *The Algorithmic Beauty of Plants* chapter you read, you learned that Vogel had proposed the following formulas to calculate the angle and radius of each floret on a sunflower head:\n",
    "\n",
    "```python\n",
    "theta = n * phi\n",
    "r = sqrt(n)\n",
    "```\n",
    "\n",
    "Where `n` is the ordered number of each floret on a sunflower head, `theta` is the angle of the floret, `phi` is the golden angle, and `r` is radius, the floret's distance from the center of the sunflower. You should think of each sequential floret as having one more \"turn\" of `phi` and having a longer radius than the previous, following a square root function.\n",
    "\n",
    "Also remember back to trigonometry (nobody's favorite class, but let's try to recall) that in a right triangle, `cos` and `sin` are the adjacent and opposite sides divided by the hypotenuse, respectively. In the context of a radial Cartesian plane centered at (0,0), to retrieve the `x` and `y` coordinates we use the following equations:\n",
    "\n",
    "```python\n",
    "x = r * cos(theta)\n",
    "y = r * sin(theta)\n",
    "```\n",
    "\n",
    "Finally, we will be working in radians, not degrees. Remember also from trigonometry that to convert degrees into radians, we multiply degrees by $\\displaystyle\\frac{\\pi}{180}$."
   ]
  },
  {
   "cell_type": "markdown",
   "metadata": {},
   "source": [
    "___\n",
    "## Build a sunflower!\n",
    "\n",
    "Using the equations above, build a sunflower!\n",
    "\n",
    "But first, since we will be using the golden angle quite a lot, let's just make that a variable. In the cell below, the golden angle is provided in degrees. Create a new variable called `phi` that is the golden angle in radians.\n",
    "\n",
    "It would be convenient to have $\\pi$. The cell below imports the `math` module, which you will often likely need! To retrieve the value of $\\pi$, simply type `math.pi`. You are also going to need `math` for the `math.sqrt()`, `math.cos()`, and `math.sin()` functions in this lesson."
   ]
  },
  {
   "cell_type": "code",
   "execution_count": 1,
   "metadata": {},
   "outputs": [],
   "source": [
    "import math  \n",
    "\n",
    "# From the online encyclopedia of integer sequences: \n",
    "# https://oeis.org/A096627\n",
    "\n",
    "golden_angle = 137.5077640500378546463487396283702776206886952699253696312384958261062333851951\n",
    "\n",
    "# Convert golden_angle to radians here. Call the variable phi\n",
    "\n"
   ]
  },
  {
   "cell_type": "markdown",
   "metadata": {},
   "source": [
    "Next, write a `for` loop to calculate the `x` and `y` coordinates for each floret.\n",
    "\n",
    "**Do the following:**\n",
    "\n",
    "* Create two lists for your coordinates outside of the loop: a list for the `x` values and a list for the `y` values\n",
    "* Your `for` loop should iterate 1000 times, calculating the `x` and `y` coordinate values for 1000 florets\n",
    "* Within your loop, for each floret calculate:\n",
    "  * Radius\n",
    "  * Theta\n",
    "  * x coordinate value\n",
    "  * y coordinate value\n",
    "* Append `x` and `y` coordinate values to their respective lists"
   ]
  },
  {
   "cell_type": "code",
   "execution_count": 2,
   "metadata": {},
   "outputs": [],
   "source": [
    "# Put your answer here\n",
    "\n",
    "\n"
   ]
  },
  {
   "cell_type": "markdown",
   "metadata": {},
   "source": [
    "Next, plot your results using matplotlib!\n",
    "\n",
    "* Pay attention to the size of the points, not too much overlap but not too small, either\n",
    "* Pick an appropriate color\n",
    "* Adjust the alpha appropriately\n",
    "* Consider scaling the x and y axes equal and setting a fixed aspect ratio\n",
    "* Turn the axes off\n",
    "* Always make aesthetically pleasing figures, ***especially*** when plotting sunflowers"
   ]
  },
  {
   "cell_type": "code",
   "execution_count": 3,
   "metadata": {},
   "outputs": [],
   "source": [
    "# You must alway import matplotlib before using it and use the inline code\n",
    "\n",
    "import matplotlib.pyplot as plt\n",
    "%matplotlib inline\n",
    "\n",
    "# Put the code for your plot here\n",
    "\n"
   ]
  },
  {
   "cell_type": "markdown",
   "metadata": {},
   "source": [
    "___\n",
    "## What a difference an angle makes!"
   ]
  },
  {
   "cell_type": "markdown",
   "metadata": {},
   "source": [
    "You learned in the *The Algorithmic Beauty of Plants* chapter that you read that the packing of florets in a sunflower is extremely sensitive to the exact value of the golden angle. A little bit more or less and the beautifully-spaced arrangement that is readily apparent to the eye is destroyed. This is because of the special mathematical properties of the golden angle.\n",
    "\n",
    "In this exercise, you will be taking the sunflower florets you just created using your `for` loop and creating an animation, where the value of the golden angle deviates from -1 to +1 degrees over 100 steps. Using this animation, you will observe the sensitivity of the packing of florets in a sunflower to the golden angle, and how this sensitivity varies closer to and farther from the center.\n",
    "\n",
    "Our strategy will be to create a loop within a loop! The logic is this: you have already created a loop that will calculate all the `x` & `y` coordinates in a sunflower. You put that loop into another loop! The outer loop will iterate over deviations of the golden angle. So, the flow will look like this: \n",
    "\n",
    "1. Outer loop creates a new angle value, \n",
    "2. Inner loop caclulates all the `x` and `y` coordinate values for the new angle value, \n",
    "3. The inner loop is exited, you are back in the outer loop, \n",
    "4. Your previous code to plot a sunflower plots the florets for the current angle, \n",
    "5. The outer loop repeats with a new angle value and a new frame of the animation!\n",
    "\n",
    "Just one more thing. We will be iterating in 100 steps from -1 to +1 degrees of the golden angle. How do you specify a set number of steps between two values? One function to do this is `linspace()`, from the `numpy` module. `linspace()` takes a start value (inclusive), stop value (inclusive), and a number of steps to incrementally iterate over the interval. Use this for your outer loop to minutely adjust the angle value from +- 1 degree of the golden angle!\n",
    "\n",
    "In the cell below, pseudo-code is provided to help guide you in constructing your first loop of a loop! Remember, you can almost use the previous code (with some modifications) for your loop to calculate `x` and `y` coordinate values and to plot your sunflower in the loop of loops below.\n",
    "\n",
    "This exercise is meant for you to spend time thinking about how complex loops work and how to modify and adjust code for different purposes. So spend time thinking through this. \n",
    "\n",
    "If you're successful, you will create a beautiful sunflower animation!\n",
    "\n",
    "Follow the pseudo-code and fill out the missing parts!"
   ]
  },
  {
   "cell_type": "code",
   "execution_count": 4,
   "metadata": {},
   "outputs": [
    {
     "data": {
      "text/plain": [
       "<Figure size 720x720 with 0 Axes>"
      ]
     },
     "metadata": {},
     "output_type": "display_data"
    },
    {
     "data": {
      "text/plain": [
       "<Figure size 720x720 with 0 Axes>"
      ]
     },
     "metadata": {},
     "output_type": "display_data"
    }
   ],
   "source": [
    "# Imports to get the animation to work\n",
    "from IPython.display import display, clear_output \n",
    "import time  \n",
    "\n",
    "# Import numpy to use linspace\n",
    "import numpy as np\n",
    "\n",
    "# For animation, you need to call a figure\n",
    "fig = plt.figure(figsize=(10,10)) \n",
    "\n",
    "# Using linspace() to create 100 increments between -1 and +1\n",
    "for i in np.linspace(-1, 1, 100):\n",
    "    \n",
    "    # Here, create a \"new_angle\" variable that is golden_angle + i\n",
    "    # Remember the new angle must be in radians!\n",
    "    \n",
    "    \n",
    "    \n",
    "    # This is where to insert your previous loop to calculate x and y coords for the new angle\n",
    "    # Remember, theta will be calculated from your new angle! So be sure to change that!\n",
    "    # Remember, properly indent your for loop within the other for loop: indents of indents!\n",
    "    # Remember, keep the x and y coordinate lists outside of this loop (but within the first loop)\n",
    "    # Still calculate x and y values for 1000 florets using your previous loop\n",
    "    \n",
    "    # Your previous loop code goes in this space!\n",
    "    \n",
    "    \n",
    "    \n",
    "    \n",
    "    \n",
    "    \n",
    "    \n",
    "    \n",
    "    # You are now outside of the inner loop and back in the outer loops\n",
    "    \n",
    "    \n",
    "\n",
    "    \n",
    "    # Put your code for your plot of the sunflower here\n",
    "    \n",
    "    \n",
    "\n",
    "    # This is the code that creates the animation\n",
    "    time.sleep(0.1) \n",
    "    clear_output(wait=True)\n",
    "    display(fig)\n",
    "    fig.clear()"
   ]
  },
  {
   "cell_type": "markdown",
   "metadata": {},
   "source": [
    "___\n",
    "## But sunflowers grow!\n",
    "\n",
    "Yes, it's nice to create an animation changing the angle of florets with a fixed radius. But in the real world a sunflower is growing! The florets arise from a meristem (a population of stem cells) at the center of the sunflower. At the periphery of the shoot apical meristem in the center of the sunflower, cells are determined to become a floret. We call the ability of cells, like meristems, to produce different types of tissues \"pluripotent\". We say that cells are \"determined\" or \"fated\" to become a particular type of tissue as they lose pluripotency. \"Differentiated\" cells have already become a particular tissue. After a floret has differentiated, it moves away from the center of the sunflower. \n",
    "\n",
    "In your previous plots, the florets at the periphery were the first to arise, and were \"pushed\" from the center by all the other florets that subsequently arose. Let's create an animation where we watch florets arise at the center and move outwards!\n",
    "\n",
    "You will:\n",
    "\n",
    "1. Create pre-populated lists of `thetas` and `radii`. Simply use the code you already have to calculate the thetas and radii.\n",
    "2. Once born, a floret ***always*** keeps the same theta. But the radius gets longer and longer.\n",
    "3. Our first loop will create lists of theta and radii that increase in length with each iteration. Because of this, we will start with one floret, then two, and so on, and with each additional floret, the radii of the first florets will become longer and longer. We will start with no florets and grow our sunflower, adding more and more. This loop takes one more member of your pre-specified `thetas` and `radii` lists with each iteration.\n",
    "4. There is a problem, though. Each time we add more `thetas` (which are associated with unique florets), the oldest/first `thetas` are at the ***beginning*** of the list. The oldest `radii`, too, are at the beginning of their list and they will be the shortest radii! The oldest/first `thetas` should have the longest radii, not the shortest!\n",
    "5. We will use the `.reverse()` function, which reverses the order of elements of a list. What this will do is insure that the oldest/first `thetas` of the thetas list correspond to the longest radii after the radii list is reversed.\n",
    "6. Think through the reasoning above, it's complicated. We are adding one more floret with each iteration. But the first floret would always have the shortest radius, unless we reversed the radii list. By reversing the radii list, the first floret will have an increasing radius.\n",
    "\n",
    "Follow the reasoning above and make sure you understand it. Pseudo-code with comments is provided in the cells below. Using the skeleton, fill out the rest of the code. The code is in two parts:\n",
    "\n",
    "1. First, using a `for` loop, create two lists: `thetas` and `radii`. These lists should contain **750** theta and radius values for florets.\n",
    "\n",
    "2. Using the pseudo-code provided, create an animation of a growing sunflower."
   ]
  },
  {
   "cell_type": "code",
   "execution_count": 5,
   "metadata": {},
   "outputs": [],
   "source": [
    "# In this cell, create two emtpy lists: \"thetas\" and \"radii\"\n",
    "# Then, using a for loop, populate your two lists with theta and radii values for 750 florets\n",
    "# You can use the code you have already produced\n",
    "# Put your answer here\n",
    "\n",
    "\n"
   ]
  },
  {
   "cell_type": "code",
   "execution_count": 6,
   "metadata": {},
   "outputs": [
    {
     "ename": "IndentationError",
     "evalue": "expected an indented block (2711649133.py, line 54)",
     "output_type": "error",
     "traceback": [
      "\u001b[0;36m  File \u001b[0;32m\"/tmp/ipykernel_21610/2711649133.py\"\u001b[0;36m, line \u001b[0;32m54\u001b[0m\n\u001b[0;31m    time.sleep(0.001)\u001b[0m\n\u001b[0m    ^\u001b[0m\n\u001b[0;31mIndentationError\u001b[0m\u001b[0;31m:\u001b[0m expected an indented block\n"
     ]
    }
   ],
   "source": [
    "# Next, using the pseudo-code below, create an animation of growing florets in a sunflower\n",
    "# Pay attention to what the two loops are doing and how they function in real time\n",
    "# Pay attention to indexing of lists\n",
    "# Pay attention to the use of the .reverse() function\n",
    "# Understand how this code creates an animation of a growing sunflower, frame-by-frame\n",
    "# Put your answer below\n",
    "\n",
    "\n",
    "# Imports to get the animation to work\n",
    "from IPython.display import display, clear_output\n",
    "import time  \n",
    "\n",
    "# For animation, you need to call a figure\n",
    "fig = plt.figure()\n",
    "\n",
    "for i in range(len(radii)):\n",
    "\n",
    "    xlist = []\n",
    "    ylist = []\n",
    "    \n",
    "    # This selects the current set of thetas to use\n",
    "    current_thetas = thetas[0:(i+1)]\n",
    "    # This selects the current set of radii to use\n",
    "    # Everytime the loop runs, this list will be recreated in the \"forward\" direction\n",
    "    # When created, shortest radii are first, longest radii are last\n",
    "    current_radii = radii[0:(i+1)]\n",
    "    # After creating the list of radii, \"reverse\" its order\n",
    "    # Reversing the order of the radii means that the \n",
    "    # florets first specified (the first thetas) have the longest radius\n",
    "    # After reversing, longest radii are first, shortest radii are last\n",
    "    current_radii.reverse()\n",
    "\n",
    "    for n in range (i+1): \n",
    "        \n",
    "        # Here, for each floret n caclulate r, theta, x, y, and append x & y to their lists\n",
    "\n",
    "        \n",
    "        \n",
    "        \n",
    "        \n",
    "        \n",
    "        \n",
    "        \n",
    "    # You are now back in the outer loop\n",
    "    \n",
    "    \n",
    "\n",
    "    \n",
    "    # Put your code to make a plot of a sunflower here\n",
    "    \n",
    "    \n",
    "    \n",
    "    # This is the code that creates the animation\n",
    "    time.sleep(0.001) \n",
    "    clear_output(wait=True)\n",
    "    display(fig)\n",
    "    fig.clear()\n",
    "\n",
    "# Closes the figure animation once complete\n",
    "# plt.close()"
   ]
  }
 ],
 "metadata": {
  "kernelspec": {
   "display_name": "Python 3",
   "language": "python",
   "name": "python3"
  },
  "language_info": {
   "codemirror_mode": {
    "name": "ipython",
    "version": 3
   },
   "file_extension": ".py",
   "mimetype": "text/x-python",
   "name": "python",
   "nbconvert_exporter": "python",
   "pygments_lexer": "ipython3",
   "version": "3.8.10"
  }
 },
 "nbformat": 4,
 "nbformat_minor": 2
}