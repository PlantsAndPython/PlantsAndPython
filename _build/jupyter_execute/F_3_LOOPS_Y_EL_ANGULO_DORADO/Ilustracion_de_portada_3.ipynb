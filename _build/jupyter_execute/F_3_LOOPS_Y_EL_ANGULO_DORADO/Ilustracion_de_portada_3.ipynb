{
 "cells": [
  {
   "cell_type": "markdown",
   "metadata": {},
   "source": [
    "#### Ilustración de portada"
   ]
  },
  {
   "cell_type": "markdown",
   "metadata": {},
   "source": [
    "![pnp_3_esp.png](../images/pnp_3_esp.png)"
   ]
  },
  {
   "cell_type": "markdown",
   "metadata": {},
   "source": [
    "**Ilustración de *Eddy Mendoza-Galindo*:**\n",
    "\n",
    "**Descripción de la imagen:** al igual que el Dr. Strange, Fitoman utiliza una piedra del tiempo para crear portales. Uno de los portales dice `for while`. Clustalya se cubre la cara y dice \"Puedes controlar el tiempo de tus análisis usando Loops, aunque aprender a manejarlos es difícil, ¡ten cuidado!\""
   ]
  }
 ],
 "metadata": {
  "kernelspec": {
   "display_name": "Python 3 (ipykernel)",
   "language": "python",
   "name": "python3"
  },
  "language_info": {
   "codemirror_mode": {
    "name": "ipython",
    "version": 3
   },
   "file_extension": ".py",
   "mimetype": "text/x-python",
   "name": "python",
   "nbconvert_exporter": "python",
   "pygments_lexer": "ipython3",
   "version": "3.8.10"
  }
 },
 "nbformat": 4,
 "nbformat_minor": 2
}