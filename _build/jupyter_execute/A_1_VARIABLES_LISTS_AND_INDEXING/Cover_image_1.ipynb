{
 "cells": [
  {
   "cell_type": "markdown",
   "metadata": {},
   "source": [
    "#### Cover Illustration"
   ]
  },
  {
   "cell_type": "markdown",
   "metadata": {},
   "source": [
    "![pnp_1_eng.png](../images/pnp_1_eng.png)"
   ]
  },
  {
   "cell_type": "markdown",
   "metadata": {},
   "source": [
    "**Illustration by *Eddy Mendoza-Galindo*.**\n",
    "\n",
    "**Image description:\"** the panel shows Fitoman running away from a pokéball. The pokéball says \"Variable\" on it and coming out of it is a stream of \"Data\". Fitoman says \"Variables and lists are as incredible as pokéballs are! You can literally catch hundreds of data inside them!\""
   ]
  }
 ],
 "metadata": {
  "kernelspec": {
   "display_name": "Python 3 (ipykernel)",
   "language": "python",
   "name": "python3"
  },
  "language_info": {
   "codemirror_mode": {
    "name": "ipython",
    "version": 3
   },
   "file_extension": ".py",
   "mimetype": "text/x-python",
   "name": "python",
   "nbconvert_exporter": "python",
   "pygments_lexer": "ipython3",
   "version": "3.8.10"
  }
 },
 "nbformat": 4,
 "nbformat_minor": 2
}