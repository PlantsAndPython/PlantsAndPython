{
 "cells": [
  {
   "cell_type": "markdown",
   "metadata": {},
   "source": [
    "\n",
    "# <p style=\"color:#2C6A7F\">7.0 Working Remotely \n",
    "\n",
    "***Author:  Alejandra Rougon*** \n",
    "\n",
    "\n",
    "\n",
    "\n",
    "<p style=\"color:#9D994B\"><a rel=\"license\" href=\"http://creativecommons.org/licenses/by-nc/4.0/\"><img alt=\"Creative Commons License\" style=\"border-width:0\" src=\"https://i.creativecommons.org/l/by-nc/4.0/88x31.png\" /></a><br />This work is licensed under a <a rel=\"license\" href=\"http://creativecommons.org/licenses/by-nc/4.0/\">Creative Commons Attribution-NonCommercial 4.0 International License</a>.\n",
    "\n",
    "> ### <p style=\"color:#2C6A7F\"> 🔍 **Learning objectives**\n",
    ">After completing this lesson you will learn: \n",
    ">\n",
    ">* how to work remotely with `ssh`\n",
    ">* how to transfer files with `scp`\n",
    "\n",
    "Genomic analysis involve working with large data files and sometimes processes require high computational resources that most personal computers don't have. That is why, it is very likely that you will have to connect to a **High Performance Computing Cluster** to carry out some analysis. \n",
    "\n",
    "For that purpose you can connect through the **secure shell protocol** through the command `ssh`. The cluster's administrator should give you the ip address, which looks like `167.257.186.44`, the user name and password. \n",
    "\n",
    "Some institutions have a domain associated with the ip address. So in that case you can put the domain [e.g.  `my.institution.edu` ]  instead of the ip address. \n",
    "\n",
    "The syntax is `ssh user@ip_address` or `ssh user@my.institution.edu`.\n",
    "The default connection port is 22. However for security reasons that port is sometimes changed. If that is the case, the cluster administrator will let you know and you can indicate the port with option `-p`\n",
    "\n",
    "```\n",
    "ssh -p port user@ip_address\n",
    "```\n",
    "After hitting enter you will be asked to type your password.\n",
    "\n",
    "To copy **from your local computer to a remote computer** you have to be in a terminal in your local computer. If you are already connected by ssh it won't work. You have to specify the location with the **absolute path** in the remote server after `:` \n",
    "\n",
    "```\n",
    "scp local_file user@remote_ip_address:/location/where/file/will/be/copied\n",
    "```\n",
    "\n",
    "\n",
    "On the contrary if you want to copy **from the remote server to your local computer**. Remember that the path in the remote server has to be specified with the **absolute path** after `:`\n",
    "\n",
    "```\n",
    "scp user@remote_ip_address:/location_of_file/file_to_copy /location/where/file/will/be/copied\n",
    "```\n",
    "\n",
    "With the command `scp` the port is specified with uppercase  `-P`\n",
    "\n",
    "___\n",
    "🔑 **In this lesson you have**\n",
    "\n",
    "\n",
    "* how to work remotely with `ssh`\n",
    "* how to transfer files with `scp`\n",
    "\n",
    "\n",
    "\n",
    "\n",
    "\n"
   ]
  },
  {
   "cell_type": "code",
   "execution_count": null,
   "metadata": {},
   "outputs": [],
   "source": []
  }
 ],
 "metadata": {
  "kernelspec": {
   "display_name": "Python 3 (ipykernel)",
   "language": "python",
   "name": "python3"
  },
  "language_info": {
   "codemirror_mode": {
    "name": "ipython",
    "version": 3
   },
   "file_extension": ".py",
   "mimetype": "text/x-python",
   "name": "python",
   "nbconvert_exporter": "python",
   "pygments_lexer": "ipython3",
   "version": "3.8.10"
  }
 },
 "nbformat": 4,
 "nbformat_minor": 4
}