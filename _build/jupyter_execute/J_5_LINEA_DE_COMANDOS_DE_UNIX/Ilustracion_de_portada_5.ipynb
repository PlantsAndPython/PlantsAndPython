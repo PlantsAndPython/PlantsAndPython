{
 "cells": [
  {
   "cell_type": "markdown",
   "metadata": {},
   "source": [
    "#### Ilustración de portada"
   ]
  },
  {
   "cell_type": "markdown",
   "metadata": {},
   "source": [
    "![pnp_5_esp.png](../images/pnp_5_esp.png)"
   ]
  },
  {
   "cell_type": "markdown",
   "metadata": {},
   "source": [
    "**Ilustración de *Eddy Mendoza-Galindo*:**\n",
    "    \n",
    "**Descripción de la imagen:** en el fondo, tres imágenes de Fitoman están abriendo portales y manipulando texto de nucleótidos con letras \"ATCG\". Las hojas también flotan en el fondo. Clustalya está en primer plano y dice \"¡Si quieres dominar la secuencia control, debes aprender la técnica y disciplina, también llamadas comandos!\""
   ]
  }
 ],
 "metadata": {
  "kernelspec": {
   "display_name": "Python 3 (ipykernel)",
   "language": "python",
   "name": "python3"
  },
  "language_info": {
   "codemirror_mode": {
    "name": "ipython",
    "version": 3
   },
   "file_extension": ".py",
   "mimetype": "text/x-python",
   "name": "python",
   "nbconvert_exporter": "python",
   "pygments_lexer": "ipython3",
   "version": "3.8.10"
  }
 },
 "nbformat": 4,
 "nbformat_minor": 2
}