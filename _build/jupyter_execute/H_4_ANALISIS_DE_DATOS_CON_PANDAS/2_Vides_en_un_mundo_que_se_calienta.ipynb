{
 "cells": [
  {
   "cell_type": "markdown",
   "metadata": {},
   "source": [
    "# Actividad 4: Vides en un mundo que se calienta \n",
    "***Traducción por Guillermo Rodríguez Guerrero (UNAM ENES León, Gto., México)***"
   ]
  },
  {
   "cell_type": "markdown",
   "metadata": {},
   "source": [
    "___"
   ]
  },
  {
   "cell_type": "markdown",
   "metadata": {},
   "source": [
    "En la última lección, aprendiste sobre pandas, marcos de datos y seaborn. Aprendiste que las fechas de cosecha de las vides en Europa se han registrado durante siglos y leíste los datos en Jupyter para analizarlos usando \"pandas\".\n",
    "\n",
    "En la celda de abajo, importa `pandas` nuevamente, usa la función` pd.read_csv() `para leer los [datos](https://github.com/DanChitwood/PlantsAndPython/blob/master/grape_harvest.csv) (`grape_harvest.csv`) en el uso de la función `pd.read_csv()`, y asegúrate de que los datos estén listos para analizar imprimiendo las salidas de `.head()`, `.tail()`, `.describe() `, y` .columns` funcionan en la celda de abajo.\n"
   ]
  },
  {
   "cell_type": "code",
   "execution_count": 1,
   "metadata": {},
   "outputs": [],
   "source": [
    "# Lee aquí el conjunto de datos grape_harvest.csv\n",
    "# Usa las funciones de pandas para verificar que el conjunto de datos se haya leído correctamente\n",
    "# Imprime las salidas de las funciones .head(), .tail(), .describe() y .columns\n",
    "# ¡Recuerda importar pandas!\n",
    "\n",
    "# Puedes usar este enlace: https://raw.githubusercontent.com/DanChitwood/PlantsAndPython/master/grape_harvest.csv\n",
    "\n"
   ]
  },
  {
   "cell_type": "markdown",
   "metadata": {},
   "source": [
    "Ahora que has leído los datos, usemos el enmascaramiento, la visualización de datos y el ajuste de líneas para explorar la relación entre la fecha de cosecha de la uva y el clima a lo largo de los siglos."
   ]
  },
  {
   "cell_type": "markdown",
   "metadata": {},
   "source": [
    "___"
   ]
  },
  {
   "cell_type": "markdown",
   "metadata": {},
   "source": [
    "## Enmascaramiento"
   ]
  },
  {
   "cell_type": "markdown",
   "metadata": {},
   "source": [
    "### Determinando las fechas de cosecha más tempranas y tardías y dónde ocurrieron\n",
    "\n",
    "Comenzaremos nuestra exploración de las fechas de cosecha de la uva averiguando cuándo y dónde ocurrieron las fechas de cosecha más temprana y tardía.\n",
    "\n",
    "El marco de datos de pandas que acabas de crear debe tener cuatro columnas, que son:\n",
    "\n",
    "* **'año'**: el año en que se recopilaron los datos\n",
    "* **'región'**: la región de Europa de la que se recopilaron los datos\n",
    "* **'cosecha'**: la fecha de cosecha registrada. La fecha de cosecha se define como el número de días posteriores al 31 de agosto. Un número negativo significa que las uvas se cosecharon antes del 31 de agosto de ese año y un número positivo después.\n",
    "* **'anomalía'**: la anomalía de temperatura. Para un año determinado, este número representa cuánto más fría (negativa) o más caliente (positiva) se comparó con un valor de referencia a largo plazo, en grados Celsius.\n",
    "\n",
    "A continuación, imprime las declaraciones que respondan a las siguientes preguntas utilizando técnicas de enmascaramiento que has aprendido:\n",
    "\n",
    "1) **¿En qué año ocurrió la cosecha más temprana, en qué región ocurrió y qué tan temprano fue la cosecha?**\n",
    "\n",
    "2) **¿En qué año ocurrió la última cosecha, en qué región ocurrió y qué tan tarde fue la cosecha?**\n",
    "\n",
    "**Sugerencia**: recuerda, una máscara es una declaración booleana. Pero esa declaración booleana se puede combinar con funciones de pandas, como .min() o .max(). También recuerda que en el enmascaramiento, la declaración booleana y las funciones de pandas se pueden combinar con columnas específicas por nombre.\n",
    "\n",
    "**Segunda pista**: después de implementar el enmascaramiento, puedes agregarle la función .values() dentro de su declaración de impresión. Esto te permitirá imprimir los valores recuperados con el enmascaramiento.\n"
   ]
  },
  {
   "cell_type": "code",
   "execution_count": 2,
   "metadata": {},
   "outputs": [],
   "source": [
    "# Pon tu código aquí para imprimir en qué año ocurrió la primera cosecha,\n",
    "# la región en la que ocurrió y qué tan temprano fue la cosecha \n",
    "\n"
   ]
  },
  {
   "cell_type": "code",
   "execution_count": 3,
   "metadata": {},
   "outputs": [],
   "source": [
    "# Pon tu código aquí para imprimir en qué año ocurrió la última cosecha,\n",
    "# la región en la que ocurrió y el retraso de la cosecha \n",
    "\n"
   ]
  },
  {
   "cell_type": "markdown",
   "metadata": {},
   "source": [
    "### Encontrando fechas medias de cosecha en intervalos de 50 años\n",
    "\n",
    "¿Quieres saber si la fecha de cosecha de la uva está cambiando y, de ser así, se adelanta o se retrasa?\n",
    "\n",
    "Decides que te gustaría conocer la fecha mediana de cosecha de la uva para los siguientes intervalos de 50 años, así como la mediana desde el año 2000:\n",
    "\n",
    "* 1800-1849\n",
    "* 1850-1899\n",
    "* 1900-1949\n",
    "* 1950-1999\n",
    "* 2000-2007\n",
    "\n",
    "**Para cada uno de los intervalos anteriores, calcula la fecha mediana de cosecha de la uva. Para cada intervalo, imprime declaraciones que digan \"La fecha media de cosecha para los años (*inserta el intervalo aquí*) es: x.\"**\n",
    "\n",
    "**Sugerencia:** Puedes escribir declaraciones booleanas para valores dentro de un intervalo como:\n",
    "\n",
    "\n",
    "``` python\n",
    "data[\"column\"] >= value & data[\"column\"] <= value\n",
    "```\n",
    "\n",
    "**¿La fecha de cosecha de las uvas se adelanta o se retrasa?** \n"
   ]
  },
  {
   "cell_type": "code",
   "execution_count": 4,
   "metadata": {},
   "outputs": [],
   "source": [
    "# Pon tu código aquí \n",
    "\n",
    "\n"
   ]
  },
  {
   "cell_type": "markdown",
   "metadata": {},
   "source": [
    "____\n",
    "## Visualización y correlación\n",
    "\n",
    "Ahora que comprendes un poco las tendencias generales de los datos, deseas examinar otros factores que podrían influir en la fecha de cosecha de la uva además de los cambios históricos en el clima.\n",
    "\n",
    "Verás que los datos provienen de muchas regiones, desde la soleada España hasta Alemania. Te preguntas si estas diferencias latitudinales tendrían algún efecto en las fechas de cosecha de la uva.\n",
    "\n",
    "**Has un diagrama de caja comparando las distribuciones de las fechas de cosecha de uvas donde el eje x es \"región\" y el eje y \"cosecha\". Las regiones estarán ordenadas por latitud, de la más meridional a la septentrional. Esto te permitirá evaluar visualmente si la latitud está afectando la fecha de cosecha de la uva.**\n",
    "\n",
    "Tu diagrama debería:\n",
    "\n",
    "1. incluir etiquetas de eje (usa las funciones `matplotlib` que ya has aprendido)\n",
    "2. tener un título (usa las funciones `matplotlib` que ya has aprendido)\n",
    "3. mantener el tamaño de la figura y los comandos proporcionados en el código siguiente\n",
    "4. importar `seaborn`\n",
    "5. finalmente, ordenar las regiones por latitud, desde la más meridional hasta la más septentrional. Para hacer esto, usa la lista provista `latitude_order`. Dentro de la función boxplot `seaborn`, especifica el argumento` order` de la siguiente manera: `order=latitude_order`. Esto organizará las regiones en tu diagrama de caja desde el más meridional hasta la más septentrional.\n",
    "\n",
    "**Sugerencia:** ¡Ten en cuenta que puedes combinar `matplotlib` y` seaborn`! Puedes llamar a la función de diagrama de caja `seaborn` y aplicar los estilos que desees, pero utiliza las funciones de` matplotlib` que ya conoces para modificar el título, las etiquetas de los ejes y otros atributos del diagrama. ¡Lo mejor de ambos mundos!\n"
   ]
  },
  {
   "cell_type": "code",
   "execution_count": 5,
   "metadata": {},
   "outputs": [
    {
     "ename": "NameError",
     "evalue": "name 'plt' is not defined",
     "output_type": "error",
     "traceback": [
      "\u001b[0;31m---------------------------------------------------------------------------\u001b[0m",
      "\u001b[0;31mNameError\u001b[0m                                 Traceback (most recent call last)",
      "\u001b[0;32m/tmp/ipykernel_75178/3999714755.py\u001b[0m in \u001b[0;36m<module>\u001b[0;34m\u001b[0m\n\u001b[1;32m      5\u001b[0m \u001b[0;31m## (se incluyen para asegurarse de obtener diagramas de aspecto decente)\u001b[0m\u001b[0;34m\u001b[0m\u001b[0;34m\u001b[0m\u001b[0;34m\u001b[0m\u001b[0m\n\u001b[1;32m      6\u001b[0m \u001b[0;34m\u001b[0m\u001b[0m\n\u001b[0;32m----> 7\u001b[0;31m \u001b[0mplt\u001b[0m\u001b[0;34m.\u001b[0m\u001b[0mfigure\u001b[0m\u001b[0;34m(\u001b[0m\u001b[0mfigsize\u001b[0m\u001b[0;34m=\u001b[0m\u001b[0;34m(\u001b[0m\u001b[0;36m15\u001b[0m\u001b[0;34m,\u001b[0m\u001b[0;36m4\u001b[0m\u001b[0;34m)\u001b[0m\u001b[0;34m)\u001b[0m\u001b[0;34m\u001b[0m\u001b[0;34m\u001b[0m\u001b[0m\n\u001b[0m\u001b[1;32m      8\u001b[0m \u001b[0;34m\u001b[0m\u001b[0m\n\u001b[1;32m      9\u001b[0m \u001b[0;31m#una lista de regiones, desde la más meridional hasta la más septentrional\u001b[0m\u001b[0;34m\u001b[0m\u001b[0;34m\u001b[0m\u001b[0;34m\u001b[0m\u001b[0m\n",
      "\u001b[0;31mNameError\u001b[0m: name 'plt' is not defined"
     ]
    }
   ],
   "source": [
    "# Importa matplotlib y seaborn\n",
    "# Recuerda la línea de código para configurar las figuras de matplotlib en Jupyter\n",
    "\n",
    "## NO BORRES LAS LÍNEAS DE CÓDIGO PROPORCIONADAS\n",
    "## (se incluyen para asegurarse de obtener diagramas de aspecto decente)\n",
    "\n",
    "plt.figure(figsize=(15,4))\n",
    "\n",
    "#una lista de regiones, desde la más meridional hasta la más septentrional  \n",
    "latitude_order = ['spain','maritime_alps','languedoc','various_south_east',\n",
    "                  'gaillac_south_west','southern_rhone_valley','bordeaux',\n",
    "                  'northern_rhone_valley','auvergne','savoie','northern_italy',\n",
    "                  'beaujolais_maconnais','vendee_poitou_charente','switzerland_leman_lake',\n",
    "                  'jura','high_loire_valley','low_loire_valley','burgundy','auxerre_avalon',\n",
    "                  'champagne_2','southern_lorraine','alsace','northern_lorraine',\n",
    "                  'germany','ile_de_france','champagne_1','luxembourg'] \n",
    "                    \n",
    "# Pon tu código aquí\n",
    "\n",
    "plt.xticks(rotation=90) #Gira las etiquetas del eje x para que sean legibles\n"
   ]
  },
  {
   "cell_type": "markdown",
   "metadata": {},
   "source": [
    "**Según el diagrama, ¿crees que la latitud afecta la fecha de cosecha?** Explica tu razonamiento. Si la fecha de cosecha cambia de sur a norte, ¿cómo afecta esto tu análisis del efecto de la historia y el cambio climático en la fecha de cosecha? Si la fecha de cosecha no se ve afectada por la latitud, ¿cuáles son las implicaciones para tu análisis entonces? "
   ]
  },
  {
   "cell_type": "code",
   "execution_count": null,
   "metadata": {},
   "outputs": [],
   "source": [
    "# Proporciona tu interpretación del diagrama de la relación entre la fecha de cosecha y la latitud \n",
    "\n"
   ]
  },
  {
   "cell_type": "markdown",
   "metadata": {},
   "source": [
    "### Buscando correlación en la fecha de cosecha entre Borgoña y Suiza\n",
    "\n",
    "Te preguntas si las fechas de cosecha de la uva en diferentes regiones están correlacionadas entre sí. Dos regiones con algunos de los registros más largos de fechas de cosecha de uvas son Borgoña (\"burgundy\") y Suiza (\"switzerland_leman_lake\"). Te gustaría examinar la correlación entre las fechas de cosecha de la uva en estos dos lugares. Pero primero, debes asegurarte de que haya una fecha de cosecha de uva coincidente para cada año entre estas regiones.\n",
    "\n",
    "Tu tarea a continuación es:\n",
    "\n",
    "**1. Crear dos marcos de datos enmascarados, uno llamado \"Borgoña\" con solo datos de \"burgundy\" y el otro llamado \"Suiza\", con solo datos de \"switzerland_leman_lake\".**\n",
    "\n",
    "**2. Luego, utilizando el código de función \"merge\" que se proporciona a continuación, crea un conjunto de datos en el que cada año de datos \"Borgoña\" registrados tenga un año coincidente o datos \"Suiza\" registrados. Asegúrete de inspeccionar los nombres de las columnas**\n",
    "\n",
    "**3. Con tu nuevo marco de datos combinado llamado \"burgundy_switzerland\", imprime el año más antiguo y el más reciente en tus nuevos datos combinados.** \n"
   ]
  },
  {
   "cell_type": "code",
   "execution_count": null,
   "metadata": {},
   "outputs": [],
   "source": [
    "# NO BORRES EL CÓDIGO PROPORCIONADO PARA FUSIONAR MARCOS DE DATOS\n",
    "\n",
    "# Debajo de este punto, primero crea dos conjuntos de datos enmascarados, \"borgoña\" y \"suiza\", que contengan solo los datos de\n",
    "# regiones \"burgundy\" y \"switzerland_leman_lake\", respectivamente, mediante el uso de máscaras\n",
    "\n",
    "# Pon tu código aquí para los marcos de datos enmascarados \"borgoña\" y \"suiza\"\n",
    "\n",
    "burgandy =\n",
    "\n",
    "switzerland =\n",
    "\n",
    "# Después de crear tus marcos de datos enmascarados arriba, usa la función de fusión a continuación para crear un solo marco de datos\n",
    "# Verifica los nombres de las columnas de tu nuevo conjunto de datos combinado. Los datos \"borgoña\" tendrán \"x\" después y los\n",
    "# datos de \"suiza\" \"y\". \"año\" no tendrá \"x\" ni \"y\" porque se comparte entre los marcos de datos\n",
    "\n",
    "burgundy_switzerland = burgundy.merge(switzerland, on='year')\n",
    "print(burgundy_switzerland.columns)\n",
    "\n",
    "# Luego, encuentra los años mínimos y máximos representados en este nuevo conjunto de datos fusionado\n",
    "# A continuación, imprime declaraciones de los primeros y últimos años\n",
    "\n",
    "# Pon tu código aquí para los años mínimo y máximo en tu marco de datos fusionado \"burgundy_switzerland\" \n"
   ]
  },
  {
   "cell_type": "markdown",
   "metadata": {},
   "source": [
    "Ahora que tienes datos que coinciden, con exactamente una observación \"burgundy\" y una \"switzerland_leman_lake\" para cada año, puedes examinar si las fechas de cosecha de la uva están correlacionadas.\n",
    "\n",
    "Usando la función seaborn `jointplot()` (documentación [aquí](https://seaborn.pydata.org/generated/seaborn.jointplot.html)), haz un diagrama de dispersión con distribuciones en los lados para ver esta correlación. **¡Asegúrate de que tu diagrama incluya la línea de regresión!** "
   ]
  },
  {
   "cell_type": "code",
   "execution_count": null,
   "metadata": {},
   "outputs": [],
   "source": [
    "### PON TU CÓDIGO AQUÍ\n",
    "\n",
    "\n"
   ]
  },
  {
   "cell_type": "markdown",
   "metadata": {},
   "source": [
    "**Pregunta**: La correlación es la relación entre dos variables: por ejemplo, cuando una variable aumenta de valor, la otra también aumenta (correlación positiva) o cuando una variable aumenta de valor la otra disminuye (correlación negativa). La variabilidad es qué tan dispersos están los datos o qué tan agrupados.\n",
    "\n",
    "¿Crees que la fecha de cosecha entre las dos regiones está correlacionada? ¿Positivamente o negativamente? ¿Qué tan variables son los datos? ¿La variabilidad es constante a lo largo de las fechas de cosecha? ¿Qué puedes aprender de tu diagrama? "
   ]
  },
  {
   "cell_type": "code",
   "execution_count": null,
   "metadata": {},
   "outputs": [],
   "source": [
    "# Proporciona tu interpretación de tu diagrama aquí. \n"
   ]
  },
  {
   "cell_type": "markdown",
   "metadata": {},
   "source": [
    "## Graficando la anomalía de temperatura frente al año y la fecha de cosecha frente a la anomalía de temperatura\n",
    "\n",
    "Te has estado preguntando todo este tiempo: ¿la temperatura aumenta con el tiempo?\n",
    "\n",
    "Para encontrar la respuesta a esta pregunta, **a continuación, crea un diagrama de dispersión con \"anomalía\" en el eje y y \"año\" en el eje x.** Asegúrate de que tus diagramas tengan etiquetas y un título.\n",
    "\n",
    "**Recuerda:** Si ya has importado en `seaborn`, si usas las funciones de` matplotlib`, tus diagramas seguirán teniendo el estilo de `seaborn` y podrás consultar marcos de datos y columnas específicas dentro de las funciones de` matplotlib` que ¡ya has aprendido! Utiliza las funciones `matplotlib` y consulta tu marco de datos y columnas por nombre y ve qué sucede. "
   ]
  },
  {
   "cell_type": "code",
   "execution_count": null,
   "metadata": {},
   "outputs": [],
   "source": [
    "## NO BORRES LAS LÍNEAS DE CÓDIGO PROPORCIONADAS\n",
    "## (se incluyen para asegurarse de que obtengas diagramas de aspecto decente) \n",
    "plt.figure(figsize=(15,4))\n",
    "\n",
    "\n",
    "# PON TÚ CÓDIGO AQUÍ\n"
   ]
  },
  {
   "cell_type": "markdown",
   "metadata": {},
   "source": [
    "Vez que, de hecho, la temperatura aumenta con el tiempo. El patrón clásico de \"palo de hockey\". Deseas ver si la fecha de cosecha se ve afectada por la anomalía de temperatura. Como arriba, **a continuación, crea un diagrama de dispersión con \"fecha de cosecha\" en el eje y y \"anomalía\" en el eje x**. Asegúrate de que tus parcelas tengan etiquetas y un título.\n",
    "\n",
    "**Sugerencia**: estás trazando una gran cantidad de datos y será difícil ver la relación subyacente debido a la superposición. Puedes insertar el argumento `alpha` en la función `scatter()` para crear transparencia y ver mejor tus datos. Puedes comenzar con un alfa tan bajo como 0.1 (por ejemplo, `alpha=0.1`) y ajustarlo más alto si lo deseas. "
   ]
  },
  {
   "cell_type": "code",
   "execution_count": null,
   "metadata": {},
   "outputs": [],
   "source": [
    "## NO BORRES LAS LÍNEAS DE CÓDIGO PROPORCIONADAS\n",
    "## (se incluyen para asegurarse de que obtengas diagramas de aspecto decente) \n",
    "plt.figure(figsize=(8,5))\n",
    "\n",
    "\n",
    "# PON TÚ CÓDIGO AQUÍ\n"
   ]
  },
  {
   "cell_type": "markdown",
   "metadata": {},
   "source": [
    "**Pregunta:** Según tu diagrama, ¿existe una correlación entre la fecha de cosecha y la anomalía de temperatura? Si es así, ¿es positiva o negativa? ¿Crees que la relación es lineal o curva, como tu diagrama de anomalía de temperatura frente al año? "
   ]
  },
  {
   "cell_type": "code",
   "execution_count": null,
   "metadata": {},
   "outputs": [],
   "source": [
    "# Escribe aquí tus pensamientos sobre la relación entre la fecha de cosecha y la temperatura aquí \n"
   ]
  },
  {
   "cell_type": "markdown",
   "metadata": {},
   "source": [
    "### Modelando la fecha de cosecha en función de la anomalía de temperatura usando `seaborn`\n",
    "\n",
    "Te preguntas si la fecha de \"cosecha\" puede modelarse en función de la \"anomalía\" de la temperatura. Incluso sospechas, después de graficar \"cosecha\" versus \"anomalía\" arriba, si esta relación podría ser lineal. ¡Te sorprende saber que, de hecho, otros sugieren que esta relación es lineal! En la [publicación](https://www.clim-past.net/8/1403/2012/cp-8-1403-2012.pdf) de donde se obtuvo estos datos, se sugiere que otros han encontrado que **para ¡Cada 1C de aumento de temperatura, la fecha de cosecha es en promedio 10 días antes!**\n",
    "\n",
    "Te propusiste crear un modelo lineal que predice \"cosecha\" como una función de \"anomalía\" y te das cuenta de que esto es fácil de hacer usando la función `sns.lmplot()`! Lee la documentación de `sns.lmplot()` [aquí](https://seaborn.pydata.org/generated/seaborn.lmplot.html) y haz un gráfico, con un ajuste lineal mostrando, la fecha de cosecha frente a la anomalía de temperatura . "
   ]
  },
  {
   "cell_type": "code",
   "execution_count": null,
   "metadata": {},
   "outputs": [],
   "source": [
    "# Haz tu sns.lmplot() aquí \n",
    "\n",
    "\n"
   ]
  },
  {
   "cell_type": "markdown",
   "metadata": {},
   "source": [
    "¡Parece haber mucho sobretratamiento con demasiados puntos! En la celda de abajo, usa el argumento `scatter=False` para eliminar los puntos de datos para que podamos ver solo la línea ajustada. "
   ]
  },
  {
   "cell_type": "code",
   "execution_count": null,
   "metadata": {},
   "outputs": [],
   "source": [
    "# Elimina los puntos de datos de tu diagrama en esta celda \n"
   ]
  },
  {
   "cell_type": "markdown",
   "metadata": {},
   "source": [
    "Mira la línea ajustada e intenta estimar la pendiente. Recuerda, la pendiente es el cambio unitario en los valores $y$ dividido por el cambio unitario en los valores $x$. Por cada grado Celsius, ¿cuántos días cambia aproximadamente la cosecha? "
   ]
  },
  {
   "cell_type": "code",
   "execution_count": null,
   "metadata": {},
   "outputs": [],
   "source": [
    "# Pon tu estimación de cuántos días cambia la cosecha por cada grado de anomalía de temperatura en grados Celsius.\n",
    "\n"
   ]
  },
  {
   "cell_type": "markdown",
   "metadata": {},
   "source": [
    "Recuerda, en la Actividad 1 indexaste la anomalía de la temperatura global durante tu vida para ver cuánto han cambiado las temperaturas globales desde que naciste. Como estimación aproximada, veamos cuántos días de aumento de temperatura de este tipo podría haber afectado la cosecha de uvas.\n",
    "\n",
    "En la celda de abajo, los valores de anomalía de temperatura que comienzan en el año 1900 a 2020 se proporcionan en una lista llamada `temp_anomaly`. Estos datos son de [NASA](https://climate.nasa.gov/vital-signs/global-temperature/). Ejecuta la celda a continuación para crear la lista.\n",
    "\n",
    "**Recuerda:** Esta lista comienza en 1900 a 2020 y la indexación en Python comienza en 0. "
   ]
  },
  {
   "cell_type": "code",
   "execution_count": 18,
   "metadata": {},
   "outputs": [],
   "source": [
    "temp_anomaly = [-0.19,-0.23,-0.25,-0.28,-0.3,-0.33,-0.36,-0.37,-0.39,-0.4,-0.41,-0.38,\n",
    "                -0.35,-0.32,-0.31,-0.3,-0.29,-0.29,-0.29,-0.29,-0.27,-0.26,-0.25,-0.24,\n",
    "                -0.23,-0.22,-0.21,-0.2,-0.19,-0.19,-0.19,-0.19,-0.18,-0.17,-0.16,-0.14,\n",
    "                -0.11,-0.06,-0.01,0.03,0.06,0.09,0.11,0.1,0.07,0.04,0,-0.04,-0.07,-0.08,\n",
    "                -0.08,-0.07,-0.07,-0.07,-0.07,-0.06,-0.05,-0.04,-0.01,0.01,0.03,0.01,\n",
    "                -0.01,-0.03,-0.04,-0.05,-0.06,-0.05,-0.03,-0.02,0,0,0,0,0.01,0.02,0.04,\n",
    "                0.07,0.12,0.16,0.2,0.21,0.22,0.21,0.21,0.22,0.24,0.27,0.31,0.33,0.34,\n",
    "                0.33,0.33,0.34,0.34,0.37,0.4,0.43,0.45,0.48,0.51,0.53,0.55,0.59,0.61,\n",
    "                0.62,0.63,0.64,0.65,0.65,0.65,0.67,0.7,0.74,0.79,0.83,0.88,0.91,0.95,\n",
    "                0.98,1.01]"
   ]
  },
  {
   "cell_type": "markdown",
   "metadata": {},
   "source": [
    "En la celda de abajo, indexa la lista desde el año de tu nacimiento hasta el año 2020. Observa la diferencia de anomalías desde tu nacimiento hasta el 2020 y estima aproximadamente cuánto afectaría tal cambio en la temperatura la fecha de cosecha de las uvas.\n",
    "\n",
    "**Sugerencia:** Recuerda que -1 puede indexar el último elemento de una lista. "
   ]
  },
  {
   "cell_type": "code",
   "execution_count": null,
   "metadata": {},
   "outputs": [],
   "source": [
    "# PON TU CÓDIGO AQUÍ\n",
    "\n"
   ]
  },
  {
   "cell_type": "markdown",
   "metadata": {},
   "source": [
    "Al volver a examinar tu diagrama de anomalías de temperatura en función del año, ¿tiene sentido tu resultado? ¿Qué dice esto sobre el ritmo del cambio climático y las implicaciones para la agricultura? "
   ]
  },
  {
   "cell_type": "code",
   "execution_count": null,
   "metadata": {},
   "outputs": [],
   "source": [
    "# Escribe tus pensamientos sobre el ritmo del cambio climático y sus implicaciones. \n"
   ]
  }
 ],
 "metadata": {
  "kernelspec": {
   "display_name": "Python 3",
   "language": "python",
   "name": "python3"
  },
  "language_info": {
   "codemirror_mode": {
    "name": "ipython",
    "version": 3
   },
   "file_extension": ".py",
   "mimetype": "text/x-python",
   "name": "python",
   "nbconvert_exporter": "python",
   "pygments_lexer": "ipython3",
   "version": "3.8.10"
  }
 },
 "nbformat": 4,
 "nbformat_minor": 4
}