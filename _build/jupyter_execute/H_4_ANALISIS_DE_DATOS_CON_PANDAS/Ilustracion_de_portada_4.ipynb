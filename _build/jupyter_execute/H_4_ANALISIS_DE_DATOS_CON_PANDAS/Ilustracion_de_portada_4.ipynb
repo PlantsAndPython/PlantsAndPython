{
 "cells": [
  {
   "cell_type": "markdown",
   "metadata": {},
   "source": [
    "#### Ilustración de portada"
   ]
  },
  {
   "cell_type": "markdown",
   "metadata": {},
   "source": [
    "![pnp_4_esp.png](../images/pnp_4_esp.png)"
   ]
  },
  {
   "cell_type": "markdown",
   "metadata": {},
   "source": [
    "**Ilustración de *Eddy Mendoza-Galindo*:**\n",
    "\n",
    "**Descripción de la imagen:** Clustalya se levanta sobre una autopista vacía con postes telefónicos, con los brazos extendidos y dos serpientes, azules y doradas, como el logo de la python, envolviéndola. Se enfrenta a una criatura malvada, como de Stranger Things, con números en el cielo. Fitoman está tumbado en la carretera y dice: \"Aunque trabajar con Big Data puede ser intimidante, recuerda que siempre puedes enfrentar cada parte por separado!\""
   ]
  }
 ],
 "metadata": {
  "kernelspec": {
   "display_name": "Python 3 (ipykernel)",
   "language": "python",
   "name": "python3"
  },
  "language_info": {
   "codemirror_mode": {
    "name": "ipython",
    "version": 3
   },
   "file_extension": ".py",
   "mimetype": "text/x-python",
   "name": "python",
   "nbconvert_exporter": "python",
   "pygments_lexer": "ipython3",
   "version": "3.8.10"
  }
 },
 "nbformat": 4,
 "nbformat_minor": 2
}