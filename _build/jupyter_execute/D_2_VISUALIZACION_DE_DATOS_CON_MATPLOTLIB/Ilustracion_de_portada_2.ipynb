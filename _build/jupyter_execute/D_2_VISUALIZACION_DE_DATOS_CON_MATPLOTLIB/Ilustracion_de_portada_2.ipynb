{
 "cells": [
  {
   "cell_type": "markdown",
   "metadata": {},
   "source": [
    "#### Ilustración de portada"
   ]
  },
  {
   "cell_type": "markdown",
   "metadata": {},
   "source": [
    "![pnp_2_esp.png](../images/pnp_2_esp.png)"
   ]
  },
  {
   "cell_type": "markdown",
   "metadata": {},
   "source": [
    "**Ilustración de *Eddy Mendoza-Galindo*.**\n",
    "\n",
    "**Descripción de la imagen:** Clustalya sostiene la punta de una pipeta como varita mágica. En el extremo de la varita mágica hay una hoja de parra trazada con el texto \"*Vitis palmata*\" debajo. Alrededor de Clustalya hay números que se arremolinan y el texto \"*expecto patronum*\". Clustalya dice: \"El hechizo más poderoso que puedes usar contra la mal interpretación de los datos es graficarlos!\"."
   ]
  }
 ],
 "metadata": {
  "kernelspec": {
   "display_name": "Python 3 (ipykernel)",
   "language": "python",
   "name": "python3"
  },
  "language_info": {
   "codemirror_mode": {
    "name": "ipython",
    "version": 3
   },
   "file_extension": ".py",
   "mimetype": "text/x-python",
   "name": "python",
   "nbconvert_exporter": "python",
   "pygments_lexer": "ipython3",
   "version": "3.8.10"
  }
 },
 "nbformat": 4,
 "nbformat_minor": 2
}