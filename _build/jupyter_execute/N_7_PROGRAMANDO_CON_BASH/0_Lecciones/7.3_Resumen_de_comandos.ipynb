{
 "cells": [
  {
   "cell_type": "markdown",
   "metadata": {},
   "source": [
    "# <p style=\"color:#2C6A7F\"> 03. Resumen de comandos\n",
    "***Autora:  Dra. Alejandra Rougon*** \n",
    "\n",
    "<p style=\"color:#9D994B\"><a rel=\"license\" href=\"http://creativecommons.org/licenses/by-nc/4.0/\"><img alt=\"Creative Commons License\" style=\"border-width:0\" src=\"https://i.creativecommons.org/l/by-nc/4.0/88x31.png\" /></a><br />Este trabajo está bajo la licencia <a rel=\"license\" href=\"http://creativecommons.org/licenses/by-nc/4.0/\">Creative Commons Atribución-NonComercial 4.0 Licencia Internacional</a>.\n",
    "\n",
    "La siguiente tabla muestra un resumen de los comandos revisados en las lecciones anteriores\n",
    "\n",
    "\n",
    "| Comando  | Acción                                                                                      |\n",
    "|----------|---------------------------------------------------------------------------------------------|\n",
    "| `pwd`    | imprime la ruta al directorio de trabajo                                                              |\n",
    "| `ls`     | enlista el contenido de directorios [ `-l` descripción larga, `-a` todo, `-t` orden de tiempo, `-r` reverso, `-p` imprime `/` después del nombre de directorios]                                                                     |\n",
    "| `cd`     | cambia de directorio                                                                            |\n",
    "| `mkdir`  | crea directorio                                                                        |\n",
    "| `cat`    | visualiza, crea, agrega contenido & concatena archivos                                               |\n",
    "| `less`   | visualiza contenido de archivos                                                                          |\n",
    "| `more`   | visualiza contenido de archivos                                                             |\n",
    "| `head`   | muestra las primeras líneas  [`-n` número de líneas]                                                   |\n",
    "| `tail`   | muestra las últimas líneas   [`-n` número de líneas]                                 |\n",
    "| `man`    | abre manual de un comando en específico [`q` para salir]                                      |\n",
    "| `cp`     | copia archivos y directorios                                                                        |\n",
    "| `mv`     | mueve archivos y directorios; cambia de nombre                                                           |\n",
    "| `rm`     | elimina archivos                                              |\n",
    "| `rmdir`  | elimina directorios vacíos                                                                          |\n",
    "| `*`      | *wildcard* [cualquier caracter, cualquier número de veces]                                                |\n",
    "| `sort`   | ordena [alfabéticamente, `-n` numéricamente, `-v` numéricamente letras y números, `-r` reverso] |\n",
    "| `cut`    | selecciona columnas [`-f` número de columna, `-d` separador]                                    |\n",
    "| `grep`   | encuentra cadenas [`-v` opuesto, `-c` cuenta]                                                      |\n",
    "| `vim`    | editor de texto [ `i` insertar, `Esc:wq!` guardar y salir, `Esc:q!` salir sin guardar]             |\n",
    "| `nano`   | editor de texto [ `Ctrl o` guardar, `Ctrl x` salir]                                         |\n",
    "| `wc`     | contar palabras [`-l` líneas, `-w` palabras, `-c` caracteres]                                           |\n",
    "| `chmod`  | cambia permisos                                                                          |\n",
    "| `|`     | *pipe* [utiliza la salida de un comando y la usa como entrada en el siguiente comando]                            |\n",
    "| `>`| dirigir salida [a nuevo archivo o sobrescribe el existente] |\n",
    "| `>>`| dirige salida a un archivo agregándola a contenido previo |\n",
    "| `ssh`| *secure shell* para acceso remoto|\n",
    "| `scp`| copia archivos de manera segura entre computadora local y servidor remoto|\n",
    "| `echo`| imprime en la pantalla |\n",
    "\n",
    "\n",
    " \n"
   ]
  }
 ],
 "metadata": {
  "kernelspec": {
   "display_name": "Python 3 (ipykernel)",
   "language": "python",
   "name": "python3"
  },
  "language_info": {
   "codemirror_mode": {
    "name": "ipython",
    "version": 3
   },
   "file_extension": ".py",
   "mimetype": "text/x-python",
   "name": "python",
   "nbconvert_exporter": "python",
   "pygments_lexer": "ipython3",
   "version": "3.8.10"
  }
 },
 "nbformat": 4,
 "nbformat_minor": 4
}