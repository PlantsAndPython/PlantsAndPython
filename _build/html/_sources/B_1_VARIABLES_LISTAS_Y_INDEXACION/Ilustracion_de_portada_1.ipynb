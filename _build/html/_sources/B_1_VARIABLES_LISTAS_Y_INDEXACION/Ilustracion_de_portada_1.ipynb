{
 "cells": [
  {
   "cell_type": "markdown",
   "metadata": {},
   "source": [
    "#### Ilustración de portada"
   ]
  },
  {
   "cell_type": "markdown",
   "metadata": {},
   "source": [
    "![pnp_1_esp.png](../images/pnp_1_esp.png)"
   ]
  },
  {
   "cell_type": "markdown",
   "metadata": {},
   "source": [
    "**Ilustración de *Eddy Mendoza-Galindo*.**\n",
    "\n",
    "**Descripción de la imagen:** el panel muestra a Fitoman huyendo de una pokéball. En la pokéball pone \"Variable\" y de ella sale un flujo de \"Datos\". Fitoman dice \"¡Las variables son igual de asombrosas que una pokéball! Es increíble como puedes atrapar tantos datos adentro!\""
   ]
  }
 ],
 "metadata": {
  "kernelspec": {
   "display_name": "Python 3 (ipykernel)",
   "language": "python",
   "name": "python3"
  },
  "language_info": {
   "codemirror_mode": {
    "name": "ipython",
    "version": 3
   },
   "file_extension": ".py",
   "mimetype": "text/x-python",
   "name": "python",
   "nbconvert_exporter": "python",
   "pygments_lexer": "ipython3",
   "version": "3.8.10"
  }
 },
 "nbformat": 4,
 "nbformat_minor": 2
}
