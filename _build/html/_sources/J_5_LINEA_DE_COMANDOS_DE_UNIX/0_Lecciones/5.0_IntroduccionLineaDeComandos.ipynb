{
 "cells": [
  {
   "cell_type": "markdown",
   "metadata": {},
   "source": [
    "\n",
    "# <p style=\"color:#2C6A7F\">5.0 Introducción a la línea de comandos\n",
    "\n",
    "***Autora:  Dra. Alejandra Rougon*** \n",
    "\n",
    "<p style=\"color:#9D994B\"><a rel=\"license\" href=\"http://creativecommons.org/licenses/by-nc/4.0/\"><img alt=\"Creative Commons License\" style=\"border-width:0\" src=\"https://i.creativecommons.org/l/by-nc/4.0/88x31.png\" /></a><br />Este trabajo está bajo la licencia <a rel=\"license\" href=\"http://creativecommons.org/licenses/by-nc/4.0/\">Creative Commons Atribución-NonComercial 4.0 Licencia Internacional</a>.\n",
    "\n",
    "Bienvendid@ a la Unidad de línea de comandos de Plants & Python. La **Línea de comandos** o **Terminal** es una herramienta muy importante para los análisis bioinformáticos. Esta unidad pretende introducirte al uso de la línea\n",
    "de comandos para el análisis de datos biológicos. Está dividida en 11 lecciones y tres prácticas donde podrás aplicar lo que has aprendido. En esta unidad aprenderás cómo se usan los comando básicos en una terminal de linux a través de la práctica en una terminal virtual del [CS50 Sandbox](https://sandbox.cs50.io/). También aprenderás a reconocer los formatos biológicos más comunes y minarás algunos datos biológicos. \n",
    "\n",
    "Los videos irán paso a paso a través de las lecciones. Trata de realizar los ejemplos mientras ves los videos, ya que si practicas aprenderás más rápido. Pero lo más importante ¡disfruta descubriendo nuevos comandos y sus funciones! \n",
    "\n",
    " \n",
    "\n",
    "## Contenido\n",
    "\n",
    "<font color=\"#1F618D\">  \n",
    "-  01. Introducción a la línea de comandos <br> \n",
    "-  02. Terminal virtual <br> \n",
    "-  03. Explorando carpetas <br> \n",
    "-  04. Trabajando con archivos <br> \n",
    "-  05. Opciones y argumentos <br> \n",
    "-  06. Copiar, cambiar de lugar y eliminar archivos <br> \n",
    "-  07. Editar, ordenar, cortar & grep <br> \n",
    "-  08. Contar palabras, Pipelines y permisos <br> \n",
    "-  09. Formatos de datos biológicos <br> \n",
    "-  10. Trabajando de manera remota <br> \n",
    "-  11. Programando con bash\n",
    " \n",
    "</font> \n",
    "\n",
    "\n",
    "\n",
    "## <p style=\"color:#2C6A7F\"> 01. Introducción a la línea de comandos\n",
    "\n",
    "> ### <p style=\"color:#2C6A7F\"> 🔍 **Objetivos de aprendizaje**\n",
    ">\n",
    ">Después de completar esta lección aprenderás:\n",
    ">\n",
    ">* Qué es una interfaz de línea de comandos de Unix\n",
    ">* Qué es un shell\n",
    ">* Cómo acceder a la terminal en diferentes sistemas operativos\n",
    "\n",
    "\n",
    "\n",
    " [![01.Introcution to Command Line](https://github.com/alerougon/ObjectStorage/blob/main/PP_CommandLine/MiniaturasVideos/Slide1.png?raw=true)](https://youtube.com/embed/L1pkyBwCESM \"01.Introcution to Command Line\")\n",
    "\n",
    "----------\n",
    "\n",
    "🔑 **En esta lección has aprendido**\n",
    "\n",
    "\n",
    "* Qué es una interfaz de línea de comandos de Unix\n",
    "* Qué es un shell\n",
    "* Cómo acceder a la terminal en diferentes sistemas operativos\n",
    "\n",
    "\n"
   ]
  },
  {
   "cell_type": "code",
   "execution_count": null,
   "metadata": {},
   "outputs": [],
   "source": []
  }
 ],
 "metadata": {
  "kernelspec": {
   "display_name": "Python 3 (ipykernel)",
   "language": "python",
   "name": "python3"
  },
  "language_info": {
   "codemirror_mode": {
    "name": "ipython",
    "version": 3
   },
   "file_extension": ".py",
   "mimetype": "text/x-python",
   "name": "python",
   "nbconvert_exporter": "python",
   "pygments_lexer": "ipython3",
   "version": "3.8.10"
  }
 },
 "nbformat": 4,
 "nbformat_minor": 4
}
