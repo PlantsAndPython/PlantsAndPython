{
 "cells": [
  {
   "cell_type": "markdown",
   "metadata": {},
   "source": [
    "\n",
    "# <p style=\"color:#2C6A7F\">Introduction to Command Line \n",
    "\n",
    "\n",
    "***Author:  Dr. Alejandra Rougon*** \n",
    "\n",
    "<p style=\"color:#9D994B\"><a rel=\"license\" href=\"http://creativecommons.org/licenses/by-nc/4.0/\"><img alt=\"Creative Commons License\" style=\"border-width:0\" src=\"https://i.creativecommons.org/l/by-nc/4.0/88x31.png\" /></a><br />This work is licensed under a <a rel=\"license\" href=\"http://creativecommons.org/licenses/by-nc/4.0/\">Creative Commons Attribution-NonCommercial 4.0 International License</a>.\n",
    "\n",
    "Welcome to the Command Line Unit from Plants & Python. The **Command Line** or **Terminal** is a very important tool for bioinformatic analysis. This Unit is meant to introduce you to the usage of the Command Line for the analysis of biological data. It is divided into 11 Lessons and 3 practices where you will be able to challenge yourself applying what you have learned. In this Unit, you will learn how to use the basic commands in a linux terminal through the practice at a virtual terminal from the [CS50 Sandbox](https://sandbox.cs50.io/). You will also learn to recognize the most common biological formats. And you will practice some biological data mining. The videos will go step by step through the lessons. Try to go through the examples as you watch the videos, as learning will go faster if you practice. But most importantly, enjoy discovering new commands and their functions!\n",
    "\n",
    " \n",
    "\n",
    "## Contents\n",
    "\n",
    "<font color=\"#1F618D\">  \n",
    "-  01. Introduction to Command Line <br> \n",
    "-  02. Virtual Terminal <br> \n",
    "-  03. Exploring Folders <br> \n",
    "-  04. Working with Files <br> \n",
    "-  05. Options and Arguments <br> \n",
    "-  06. Copy, Change Location & Remove Files <br> \n",
    "-  07. Edit, Sort, Cut & grep <br> \n",
    "-  08. Word Count, Pipelines & Permissions <br> \n",
    "-  09. Biological Data Formats <br> \n",
    "-  10. Working Remotely <br> \n",
    "-  11. Scripting with bash\n",
    " \n",
    "</font> \n",
    "\n",
    "\n",
    "\n",
    "## <p style=\"color:#2C6A7F\"> 01. Introduction to Command Line\n",
    "\n",
    "> ### <p style=\"color:#2C6A7F\"> 🔍 **Learning Objectives**\n",
    ">\n",
    ">After completing this lesson you will learn:\n",
    ">\n",
    ">* What is a Unix command line interface\n",
    ">* What is a shell\n",
    ">* How to access the terminal in different OS\n",
    "\n",
    "\n",
    "\n",
    " [![01.Introcution to Command Line](https://github.com/alerougon/ObjectStorage/blob/main/PP_CommandLine/MiniaturasVideos/Slide1.png?raw=true)](https://youtube.com/embed/L1pkyBwCESM \"01.Introcution to Command Line\")\n",
    "\n",
    "--------\n",
    "\n",
    "🔑 **In this lesson you have learned**\n",
    "\n",
    "* What is a Unix command line interface\n",
    "* What is a shell\n",
    "* How to access the terminal in different OS\n",
    "\n"
   ]
  }
 ],
 "metadata": {
  "kernelspec": {
   "display_name": "Python 3 (ipykernel)",
   "language": "python",
   "name": "python3"
  },
  "language_info": {
   "codemirror_mode": {
    "name": "ipython",
    "version": 3
   },
   "file_extension": ".py",
   "mimetype": "text/x-python",
   "name": "python",
   "nbconvert_exporter": "python",
   "pygments_lexer": "ipython3",
   "version": "3.8.10"
  }
 },
 "nbformat": 4,
 "nbformat_minor": 4
}
