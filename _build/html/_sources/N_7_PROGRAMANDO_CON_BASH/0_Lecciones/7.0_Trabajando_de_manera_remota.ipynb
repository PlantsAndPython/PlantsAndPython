{
 "cells": [
  {
   "cell_type": "markdown",
   "metadata": {},
   "source": [
    "\n",
    "# <p style=\"color:#2C6A7F\"> 09. Trabajando de manera remota\n",
    "***Autora:  Alejandra Rougon*** \n",
    "\n",
    "\n",
    "<p style=\"color:#9D994B\"><a rel=\"license\" href=\"http://creativecommons.org/licenses/by-nc/4.0/\"><img alt=\"Creative Commons License\" style=\"border-width:0\" src=\"https://i.creativecommons.org/l/by-nc/4.0/88x31.png\" /></a><br />Este trabajo está bajo la licencia <a rel=\"license\" href=\"http://creativecommons.org/licenses/by-nc/4.0/\">Creative Commons Atribución-NonComercial 4.0 Licencia Internacional</a>.\n",
    "\n",
    "\n",
    "\n",
    "> ### <p style=\"color:#2C6A7F\"> 🔍 **Objetivos de aprendizaje**\n",
    ">Después de completar esta lección aprenderás a:\n",
    ">\n",
    ">* a conectarte con `ssh` a un cluster o servidor remoto\n",
    ">* a transferir archivos por `scp`\n",
    "\n",
    "\n",
    "Los análisis genómicos involucran el trabajo con archivos con gran cantidad de datos y algunas veces los procesos requieren grandes recursos computacionales, que la mayoría de las computadoras personales no tienen. Por eso es muy probable que te tengas que conectar a un **Cluster de Alto Rendimiento [HPC]** para realizar algunos análisis. \n",
    "\n",
    "Para es propósito te puedes conectar con el protocolo **secure shell** a través del comando `ssh`. El administrador del cluster debe darte to dirección de ip, la cual se verá como esta `167.257.186.44`, tu nombre de usuario y contraseña.  \n",
    "\n",
    "Algunas instituciones tienen un dominio asociado con la dirección ip. En ese caso puedes utilizar el dominio [`my.institution.edu`] en lugar de la dirección ip.\n",
    "\n",
    "La sintaxis es `ssh user@ip_address`\n",
    "El puerto de conexión por defecto es el 22. Sin embargo por razones de seguridad algunas veces se cambia. Si ese es el caso, el administrador del cluster te lo hará saber y tu podrás especificar la opción con `-p`\n",
    "\n",
    "```\n",
    "ssh -p port user@ip_address\n",
    "```\n",
    "Después de presionar enter se te pedirá la contraseña [password].\n",
    "\n",
    "Para copiar de tu **computadora local a la computadora remota [servidor/cluster]** tienes que estar en una terminal en tu computadora local. Si ya estás conectado por `ssh` en esa terminal, no funcionará. Tienes que especificar la ubicación en el servidor remoto con la **ruta absoluta** después de `:`\n",
    "\n",
    "```\n",
    "scp local_file user@remote_ip_address:/location/where/file/will/be/copied\n",
    "```\n",
    "\n",
    "Por el contrario si quieres copiar **del servidor remoto a tu computadora**. Recuerda que la ruta en el servidor remoto tiene que ser la absoluta y va escrita después de `:`\n",
    "\n",
    "```\n",
    "scp user@remote_ip_address:/location_of_file/file_to_copy /location/where/file/will/be/copied\n",
    "```\n",
    "\n",
    "Con el comando `scp` el puerto es especificado con `-P`\n",
    "\n",
    "___\n",
    "🔑 **En esta lección has aprendido**\n",
    "\n",
    "* a conectarte con `ssh` a un cluster o servidor remoto\n",
    "* a transferir archivos por `scp`\n",
    "\n",
    "\n",
    "\n"
   ]
  }
 ],
 "metadata": {
  "kernelspec": {
   "display_name": "Python 3 (ipykernel)",
   "language": "python",
   "name": "python3"
  },
  "language_info": {
   "codemirror_mode": {
    "name": "ipython",
    "version": 3
   },
   "file_extension": ".py",
   "mimetype": "text/x-python",
   "name": "python",
   "nbconvert_exporter": "python",
   "pygments_lexer": "ipython3",
   "version": "3.8.10"
  }
 },
 "nbformat": 4,
 "nbformat_minor": 4
}
