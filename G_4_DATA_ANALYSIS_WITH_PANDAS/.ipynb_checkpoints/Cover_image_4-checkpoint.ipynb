{
 "cells": [
  {
   "cell_type": "markdown",
   "metadata": {},
   "source": [
    "#### Cover Illustration"
   ]
  },
  {
   "cell_type": "markdown",
   "metadata": {},
   "source": [
    "![pnp_4_eng.png](../images/pnp_4_eng.png)"
   ]
  },
  {
   "cell_type": "markdown",
   "metadata": {},
   "source": [
    "**Illustration by *Eddy Mendoza-Galindo*:**\n",
    "\n",
    "**Image description:** Clustalya rises over an empty highway with telephone poles, her arms outstreatched and two serpents, blue and gold, like the python logo, wrapped around her. She is confronting an evil creature, like from Stranger Things, with numbers in the sky. Fitoman is laying on the road and says \"Although coping with Big data can be terrifying, you'll find it easier to fight each small part at once!\""
   ]
  }
 ],
 "metadata": {
  "kernelspec": {
   "display_name": "Python 3 (ipykernel)",
   "language": "python",
   "name": "python3"
  },
  "language_info": {
   "codemirror_mode": {
    "name": "ipython",
    "version": 3
   },
   "file_extension": ".py",
   "mimetype": "text/x-python",
   "name": "python",
   "nbconvert_exporter": "python",
   "pygments_lexer": "ipython3",
   "version": "3.8.10"
  }
 },
 "nbformat": 4,
 "nbformat_minor": 2
}
