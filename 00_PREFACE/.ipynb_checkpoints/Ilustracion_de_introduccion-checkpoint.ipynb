{
 "cells": [
  {
   "cell_type": "markdown",
   "metadata": {},
   "source": [
    "#### Ilustración de introducción"
   ]
  },
  {
   "cell_type": "markdown",
   "metadata": {},
   "source": [
    "![pnp_intro_esp.png](../images/pnp_intro_esp.png)"
   ]
  },
  {
   "cell_type": "markdown",
   "metadata": {},
   "source": [
    "**Ilustración de *Eddy Mendoza-Galindo*.**\n",
    "\n",
    "**Descripción de la imagen:** el primer panel muestra a Fitoman sosteniendo un signo de la paz con los ojos cerrados y la gorra hacia atrás y \"¡Hola!\" escrito detrás de él. Está diciendo \"¡Soy Fitoman, un superhéroe Mexicano que sabe todo de las plantas!\". El segundo panel muestra a Clustalya saludando diciendo \"¡Y yo soy Clustalya, un superhéroe de USA que con sus poderes de mentes múltiples ha dominado la bioinformática!\". El tercer panel muestra a Fitoman arrodillado, con la mano en el suelo y una planta gigante creciendo detrás de él, y a Clustalya de pie a su lado con una bata de laboratorio y una serpiente gigante deslizándose a su alrededor. Junto a ellos hay mundos rocosos flotando en el espacio etiquetados como \"Modelado y morfología\", \"Bioinformática\" y \"Ciencia vegetal\". El texto dice \"¡Así que, que comienze la aventura!\"."
   ]
  }
 ],
 "metadata": {
  "kernelspec": {
   "display_name": "Python 3 (ipykernel)",
   "language": "python",
   "name": "python3"
  },
  "language_info": {
   "codemirror_mode": {
    "name": "ipython",
    "version": 3
   },
   "file_extension": ".py",
   "mimetype": "text/x-python",
   "name": "python",
   "nbconvert_exporter": "python",
   "pygments_lexer": "ipython3",
   "version": "3.8.10"
  }
 },
 "nbformat": 4,
 "nbformat_minor": 2
}
