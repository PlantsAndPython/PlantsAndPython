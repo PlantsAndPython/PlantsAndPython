{
 "cells": [
  {
   "cell_type": "markdown",
   "metadata": {},
   "source": [
    "#### Introduction Illustration"
   ]
  },
  {
   "cell_type": "markdown",
   "metadata": {},
   "source": [
    "![pnp_intro_eng.png](../images/pnp_intro_eng.png)"
   ]
  },
  {
   "cell_type": "markdown",
   "metadata": {},
   "source": [
    "**Illustration by *Eddy Mendoza-Galindo*.**\n",
    "\n",
    "**Image description:** first panel shows Fitoman holding up a peace sign with eyes closed and cap backwards and \"Hola!\" written behind him. He is saying \"I'm Fitoman, a mexican superhero who knows everything about plants!\". The second panel shows Clustalya waving saying \"And I'm Clustalya, a US superhero whose mutiple mind powers allowed me to master bioinformatics!\". The third panel shows Fitoman kneeling, his hand to the ground and a giant plant growing behind him, and Clustalya standing beside him in a lab coat with a giant serpent slithering around her. Next to them are rocky worlds floating in space labelled as \"Modeling and Morphology\", \"Bioinformatics\", and \"Plant Science\". The text says \"So...let our adventure begin!\""
   ]
  }
 ],
 "metadata": {
  "kernelspec": {
   "display_name": "Python 3 (ipykernel)",
   "language": "python",
   "name": "python3"
  },
  "language_info": {
   "codemirror_mode": {
    "name": "ipython",
    "version": 3
   },
   "file_extension": ".py",
   "mimetype": "text/x-python",
   "name": "python",
   "nbconvert_exporter": "python",
   "pygments_lexer": "ipython3",
   "version": "3.8.10"
  }
 },
 "nbformat": 4,
 "nbformat_minor": 2
}
