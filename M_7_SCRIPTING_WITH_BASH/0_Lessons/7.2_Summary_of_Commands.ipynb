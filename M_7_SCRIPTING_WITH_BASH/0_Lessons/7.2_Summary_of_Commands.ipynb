{
 "cells": [
  {
   "cell_type": "markdown",
   "metadata": {},
   "source": [
    "# <p style=\"color:#2C6A7F\">7.2 Summary of Commands\n",
    "***Author:  Dr. Alejandra Rougon*** \n",
    "\n",
    "<p style=\"color:#9D994B\"><a rel=\"license\" href=\"http://creativecommons.org/licenses/by-nc/4.0/\"><img alt=\"Creative Commons License\" style=\"border-width:0\" src=\"https://i.creativecommons.org/l/by-nc/4.0/88x31.png\" /></a><br />This work is licensed under a <a rel=\"license\" href=\"http://creativecommons.org/licenses/by-nc/4.0/\">Creative Commons Attribution-NonCommercial 4.0 International License</a>.\n",
    "\n",
    "The following table shows a summary of the commands reviewed in the previous notebooks \n",
    "\n",
    "| Command  | Action                                                                                      |\n",
    "|----------|---------------------------------------------------------------------------------------------|\n",
    "| `pwd`    | print path to working directory                                                             |\n",
    "| `ls`     | list directory contents [ `-l` long description, `-a`all, `-t` time order, `-r`reverse, `-p` prints `/`after folder name]                                                                     |\n",
    "| `cd`     | change directory                                                                            |\n",
    "| `mkdir`  | make directory                                                                              |\n",
    "| `cat`    | view, create, add content & concatenate files                                               |\n",
    "| `less`   | view file contents                                                                          |\n",
    "| `more`   | view file contents                                                                          |\n",
    "| `head`   | view top lines  [`-n` number of lines]                                                   |\n",
    "| `tail`   | view bottom lines   [`-n` number of lines]                                 |\n",
    "| `man`    | open manual of a specific command [`q` to quit]                                      |\n",
    "| `cp`     | copy files & folders                                                                        |\n",
    "| `mv`     | move files & folders; change name                                                           |\n",
    "| `rm`     | remove files                                                                                |\n",
    "| `rmdir`  | remove directories                                                                          |\n",
    "| `*`      | wildcard [any character any number of times]                                                |\n",
    "| `sort`   | sort [alphabetically, `-n` numerically, `-v` numerically letters and numbers, `-r` reverse] |\n",
    "| `cut`    | select columns [`-f` field, `-d` separator]                                    |\n",
    "| `grep`   | find string [`-v`opposite, `-c` count]                                                      |\n",
    "| `vim`    | text editor [ `i`insert, `Esc:wq!` save and quit, `Esc:q!` quit without saving]             |\n",
    "| `nano`   | text editor [ `Ctrl o` save, `Ctrl x` quit]                                         |\n",
    "| `wc`     | word count [`-l`lines, `-w`words, `-c`characters]                                           |\n",
    "| `chmod`  | change permissions                                                                          |\n",
    "| `|`     | pipe [output of one command goes as an input to another command]                            |\n",
    "| `>`| output redirection [new file or overwrite existing file] |\n",
    "| `>>`| output redirection append |\n",
    "| `ssh`| secure shell to access a remote server|\n",
    "| `scp`| secure copy files between local and remote server|\n",
    "| `echo`| prints to screen |\n"
   ]
  },
  {
   "cell_type": "code",
   "execution_count": null,
   "metadata": {},
   "outputs": [],
   "source": []
  }
 ],
 "metadata": {
  "kernelspec": {
   "display_name": "Python 3 (ipykernel)",
   "language": "python",
   "name": "python3"
  },
  "language_info": {
   "codemirror_mode": {
    "name": "ipython",
    "version": 3
   },
   "file_extension": ".py",
   "mimetype": "text/x-python",
   "name": "python",
   "nbconvert_exporter": "python",
   "pygments_lexer": "ipython3",
   "version": "3.8.10"
  }
 },
 "nbformat": 4,
 "nbformat_minor": 4
}
