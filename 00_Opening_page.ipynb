{
 "cells": [
  {
   "cell_type": "markdown",
   "metadata": {},
   "source": [
    "# Welcome to / Bienvenid@ a Plants & Python\n",
    "*a series of lessons in coding, plant biology, computation, and bioinformatics*  \n",
    "*una serie de lecciones de programación, biología vegetal, cómputo, y bioinformática*\n",
    "_______"
   ]
  },
  {
   "cell_type": "markdown",
   "metadata": {},
   "source": [
    "***Designed by / Diseñada por***: Robert VanBuren<sup>1,</sup>\\*, Alejandra Rougon-Cardoso<sup>2,</sup>\\*, Erik J. Amézquita<sup>1</sup>, Evelia L. Coss-Navarrete<sup>3</sup>, Omar Andres Gonzalez-Iturbe<sup>3</sup>, Aarón Espinosa-Jaime<sup>2</sup>, Alicia C. Luckie-Duque<sup>2</sup>, Eddy Mendoza-Galindo<sup>2</sup>, Guillermo Rodríguez-Guerrero<sup>2</sup>, Pablo Y. Rosiles-Loeza<sup>3</sup>, Marilyn Vásquez-Cruz<sup>3</sup>, Selene L. Fernandez-Valverde<sup>3</sup>, Tania Hernández-Hernández<sup>4</sup>, Sourabh Palande<sup>1</sup>, Daniel H. Chitwood<sup>1</sup>"
   ]
  },
  {
   "cell_type": "markdown",
   "metadata": {},
   "source": [
    "*These authors contributed equally\n",
    "\n",
    "<sup>1</sup>Michigan State University, East Lansing, Michigan, USA; <sup>2</sup>Universidad Nacional Autónoma de México UNAM campus ENES León, Guanajauto, México; <sup>3</sup>Laboratorio Nacional de Genómica para la Biodiversidad (Langebio)-Centro de Investigación y de Estudios Avanzados (Cinvestav), Irapuato, Guanajuato, México; <sup>4</sup>Desert Botanical Garden, Phoenix, Arizona, USA"
   ]
  },
  {
   "attachments": {},
   "cell_type": "markdown",
   "metadata": {},
   "source": [
    "![plants_python_logo.jpg](./images/plants_python_logo.jpg)"
   ]
  },
  {
   "cell_type": "code",
   "execution_count": null,
   "metadata": {},
   "outputs": [],
   "source": []
  }
 ],
 "metadata": {
  "kernelspec": {
   "display_name": "Python 3 (ipykernel)",
   "language": "python",
   "name": "python3"
  },
  "language_info": {
   "codemirror_mode": {
    "name": "ipython",
    "version": 3
   },
   "file_extension": ".py",
   "mimetype": "text/x-python",
   "name": "python",
   "nbconvert_exporter": "python",
   "pygments_lexer": "ipython3",
   "version": "3.8.10"
  }
 },
 "nbformat": 4,
 "nbformat_minor": 2
}
